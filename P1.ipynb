{
 "cells": [
  {
   "cell_type": "markdown",
   "metadata": {
    "id": "layMu9jgTYFB"
   },
   "source": [
    "# Q1"
   ]
  },
  {
   "cell_type": "markdown",
   "metadata": {
    "id": "5qpnrT-3TiyZ"
   },
   "source": [
    "## Part1: Preprocessing"
   ]
  },
  {
   "cell_type": "markdown",
   "metadata": {
    "id": "q7gF25vD-ckv"
   },
   "source": [
    "### Import data"
   ]
  },
  {
   "cell_type": "code",
   "execution_count": 1,
   "metadata": {
    "id": "2IfcpAzeK9jg"
   },
   "outputs": [],
   "source": [
    "import torch\n",
    "import os\n",
    "import torchvision\n",
    "import numpy as np\n",
    "from torchvision import datasets, transforms\n",
    "from torch.utils.data import Subset, DataLoader\n",
    "from PIL import Image\n",
    "import torch.nn as nn\n",
    "import torch.optim as optim\n",
    "import matplotlib.pyplot as plt\n",
    "from tqdm import tqdm\n",
    "import torch.nn.functional as F\n",
    "import seaborn as sns\n",
    "from timeit import default_timer as timer"
   ]
  },
  {
   "cell_type": "markdown",
   "metadata": {
    "id": "nWrz2EQDTsfp"
   },
   "source": [
    "### Define transforms"
   ]
  },
  {
   "cell_type": "code",
   "execution_count": 2,
   "metadata": {
    "id": "NBTmdE2OUfn4"
   },
   "outputs": [],
   "source": [
    "mean, std = 0.5, 0.5\n",
    "\n",
    "transform = transforms.Compose([\n",
    "    transforms.RandomHorizontalFlip(p=0.5),\n",
    "    transforms.ToTensor(),\n",
    "    transforms.Normalize((mean,), (std,))\n",
    "])"
   ]
  },
  {
   "cell_type": "markdown",
   "metadata": {
    "id": "gE5pFNy0qbI8"
   },
   "source": [
    "### Download datasets and save into `train_dataset` and `test_dataset`"
   ]
  },
  {
   "cell_type": "code",
   "execution_count": 3,
   "metadata": {
    "colab": {
     "base_uri": "https://localhost:8080/"
    },
    "id": "eP0l6n57UEP-",
    "outputId": "bdc80a5b-2f19-429f-aeee-0f568e696612"
   },
   "outputs": [
    {
     "name": "stdout",
     "output_type": "stream",
     "text": [
      "Downloading http://fashion-mnist.s3-website.eu-central-1.amazonaws.com/train-images-idx3-ubyte.gz\n",
      "Downloading http://fashion-mnist.s3-website.eu-central-1.amazonaws.com/train-images-idx3-ubyte.gz to data/FashionMNIST/raw/train-images-idx3-ubyte.gz\n"
     ]
    },
    {
     "name": "stderr",
     "output_type": "stream",
     "text": [
      "100%|██████████| 26421880/26421880 [00:03<00:00, 8501503.28it/s] \n"
     ]
    },
    {
     "name": "stdout",
     "output_type": "stream",
     "text": [
      "Extracting data/FashionMNIST/raw/train-images-idx3-ubyte.gz to data/FashionMNIST/raw\n",
      "\n",
      "Downloading http://fashion-mnist.s3-website.eu-central-1.amazonaws.com/train-labels-idx1-ubyte.gz\n",
      "Downloading http://fashion-mnist.s3-website.eu-central-1.amazonaws.com/train-labels-idx1-ubyte.gz to data/FashionMNIST/raw/train-labels-idx1-ubyte.gz\n"
     ]
    },
    {
     "name": "stderr",
     "output_type": "stream",
     "text": [
      "100%|██████████| 29515/29515 [00:00<00:00, 142174.65it/s]\n"
     ]
    },
    {
     "name": "stdout",
     "output_type": "stream",
     "text": [
      "Extracting data/FashionMNIST/raw/train-labels-idx1-ubyte.gz to data/FashionMNIST/raw\n",
      "\n",
      "Downloading http://fashion-mnist.s3-website.eu-central-1.amazonaws.com/t10k-images-idx3-ubyte.gz\n",
      "Downloading http://fashion-mnist.s3-website.eu-central-1.amazonaws.com/t10k-images-idx3-ubyte.gz to data/FashionMNIST/raw/t10k-images-idx3-ubyte.gz\n"
     ]
    },
    {
     "name": "stderr",
     "output_type": "stream",
     "text": [
      "100%|██████████| 4422102/4422102 [00:01<00:00, 2731070.22it/s]\n"
     ]
    },
    {
     "name": "stdout",
     "output_type": "stream",
     "text": [
      "Extracting data/FashionMNIST/raw/t10k-images-idx3-ubyte.gz to data/FashionMNIST/raw\n",
      "\n",
      "Downloading http://fashion-mnist.s3-website.eu-central-1.amazonaws.com/t10k-labels-idx1-ubyte.gz\n",
      "Downloading http://fashion-mnist.s3-website.eu-central-1.amazonaws.com/t10k-labels-idx1-ubyte.gz to data/FashionMNIST/raw/t10k-labels-idx1-ubyte.gz\n"
     ]
    },
    {
     "name": "stderr",
     "output_type": "stream",
     "text": [
      "100%|██████████| 5148/5148 [00:00<00:00, 19882391.34it/s]"
     ]
    },
    {
     "name": "stdout",
     "output_type": "stream",
     "text": [
      "Extracting data/FashionMNIST/raw/t10k-labels-idx1-ubyte.gz to data/FashionMNIST/raw\n",
      "\n"
     ]
    },
    {
     "name": "stderr",
     "output_type": "stream",
     "text": [
      "\n"
     ]
    }
   ],
   "source": [
    "train_dataset_FashionMNIST = torchvision.datasets.FashionMNIST(\n",
    "    root = \"data\", # where to download data to\n",
    "    train = True, # get training data\n",
    "    download = True, # download data if it doesn't exist on disk\n",
    "    transform = transform # images come as PIL format, we want to turn into Torch tensors\n",
    ")\n",
    "\n",
    "test_dataset_FashionMNIST = torchvision.datasets.FashionMNIST(\n",
    "    root = \"data\",\n",
    "    train = False, # get test data\n",
    "    download = True,\n",
    "    transform = transform\n",
    ")"
   ]
  },
  {
   "cell_type": "code",
   "execution_count": 4,
   "metadata": {
    "colab": {
     "base_uri": "https://localhost:8080/"
    },
    "id": "YdTTvvmY88mt",
    "outputId": "195fa4dd-f978-42a2-f384-35fde25f09a3"
   },
   "outputs": [
    {
     "name": "stdout",
     "output_type": "stream",
     "text": [
      "Downloading http://yann.lecun.com/exdb/mnist/train-images-idx3-ubyte.gz\n",
      "Downloading http://yann.lecun.com/exdb/mnist/train-images-idx3-ubyte.gz to data/MNIST/raw/train-images-idx3-ubyte.gz\n"
     ]
    },
    {
     "name": "stderr",
     "output_type": "stream",
     "text": [
      "100%|██████████| 9912422/9912422 [00:00<00:00, 515514280.95it/s]\n"
     ]
    },
    {
     "name": "stdout",
     "output_type": "stream",
     "text": [
      "Extracting data/MNIST/raw/train-images-idx3-ubyte.gz to data/MNIST/raw\n",
      "\n",
      "Downloading http://yann.lecun.com/exdb/mnist/train-labels-idx1-ubyte.gz\n",
      "Downloading http://yann.lecun.com/exdb/mnist/train-labels-idx1-ubyte.gz to data/MNIST/raw/train-labels-idx1-ubyte.gz\n"
     ]
    },
    {
     "name": "stderr",
     "output_type": "stream",
     "text": [
      "100%|██████████| 28881/28881 [00:00<00:00, 26454617.56it/s]\n"
     ]
    },
    {
     "name": "stdout",
     "output_type": "stream",
     "text": [
      "Extracting data/MNIST/raw/train-labels-idx1-ubyte.gz to data/MNIST/raw\n",
      "\n",
      "Downloading http://yann.lecun.com/exdb/mnist/t10k-images-idx3-ubyte.gz\n",
      "Downloading http://yann.lecun.com/exdb/mnist/t10k-images-idx3-ubyte.gz to data/MNIST/raw/t10k-images-idx3-ubyte.gz\n"
     ]
    },
    {
     "name": "stderr",
     "output_type": "stream",
     "text": [
      "100%|██████████| 1648877/1648877 [00:00<00:00, 147306468.65it/s]"
     ]
    },
    {
     "name": "stdout",
     "output_type": "stream",
     "text": [
      "Extracting data/MNIST/raw/t10k-images-idx3-ubyte.gz to data/MNIST/raw\n",
      "\n",
      "Downloading http://yann.lecun.com/exdb/mnist/t10k-labels-idx1-ubyte.gz\n",
      "Downloading http://yann.lecun.com/exdb/mnist/t10k-labels-idx1-ubyte.gz to data/MNIST/raw/t10k-labels-idx1-ubyte.gz\n"
     ]
    },
    {
     "name": "stderr",
     "output_type": "stream",
     "text": [
      "\n",
      "100%|██████████| 4542/4542 [00:00<00:00, 6957826.43it/s]\n"
     ]
    },
    {
     "name": "stdout",
     "output_type": "stream",
     "text": [
      "Extracting data/MNIST/raw/t10k-labels-idx1-ubyte.gz to data/MNIST/raw\n",
      "\n"
     ]
    }
   ],
   "source": [
    "train_dataset_MNIST = torchvision.datasets.MNIST(\n",
    "    root = \"data\", # where to download data to\n",
    "    train = True, # get training data\n",
    "    download = True, # download data if it doesn't exist on disk\n",
    "    transform = transform # images come as PIL format, we want to turn into Torch tensors\n",
    ")\n",
    "\n",
    "test_dataset_MNIST = torchvision.datasets.MNIST(\n",
    "    root = \"data\",\n",
    "    train = False, # get test data\n",
    "    download = True,\n",
    "    transform = transform\n",
    ")"
   ]
  },
  {
   "cell_type": "code",
   "execution_count": 5,
   "metadata": {
    "colab": {
     "base_uri": "https://localhost:8080/"
    },
    "id": "K1DEDULF88pH",
    "outputId": "ad0e7527-46d1-431c-880d-56a82829d2e6"
   },
   "outputs": [
    {
     "name": "stdout",
     "output_type": "stream",
     "text": [
      "Downloading https://www.cs.toronto.edu/~kriz/cifar-10-python.tar.gz to data/cifar-10-python.tar.gz\n"
     ]
    },
    {
     "name": "stderr",
     "output_type": "stream",
     "text": [
      "100%|██████████| 170498071/170498071 [00:14<00:00, 11674171.67it/s]\n"
     ]
    },
    {
     "name": "stdout",
     "output_type": "stream",
     "text": [
      "Extracting data/cifar-10-python.tar.gz to data\n",
      "Files already downloaded and verified\n"
     ]
    }
   ],
   "source": [
    "train_dataset_CIFAR10 = torchvision.datasets.CIFAR10(\n",
    "    root = \"data\", # where to download data to\n",
    "    train = True, # get training data\n",
    "    download = True, # download data if it doesn't exist on disk\n",
    "    transform = transform # images come as PIL format, we want to turn into Torch tensors\n",
    ")\n",
    "\n",
    "test_dataset_CIFAR10 = torchvision.datasets.CIFAR10(\n",
    "    root = \"data\",\n",
    "    train = False, # get test data\n",
    "    download = True,\n",
    "    transform = transform\n",
    ")"
   ]
  },
  {
   "cell_type": "markdown",
   "metadata": {
    "id": "JKuIDWWY-Fus"
   },
   "source": [
    "### Create dataloaders"
   ]
  },
  {
   "cell_type": "code",
   "execution_count": 6,
   "metadata": {
    "id": "GQag3tya9hLV"
   },
   "outputs": [],
   "source": [
    "def create_dataloader(train_dataset, test_dataset, batch_size):\n",
    "  train_dataloader = DataLoader(\n",
    "      dataset = train_dataset,\n",
    "      batch_size = batch_size,\n",
    "      num_workers = 2,\n",
    "      shuffle = True\n",
    "  )\n",
    "\n",
    "  test_dataloader = DataLoader(\n",
    "      dataset = test_dataset,\n",
    "      batch_size = batch_size,\n",
    "      num_workers = 2,\n",
    "      shuffle = False\n",
    "  )\n",
    "  return train_dataloader, test_dataloader"
   ]
  },
  {
   "cell_type": "code",
   "execution_count": 7,
   "metadata": {
    "id": "jZyGijDzUt4I"
   },
   "outputs": [],
   "source": [
    "train_dataloader_FashionMNIST, test_dataloader_FashionMNIST = create_dataloader(\n",
    "    train_dataset_FashionMNIST, test_dataset_FashionMNIST, 128)\n",
    "\n",
    "train_dataloader_MNIST, test_dataloader_MNIST = create_dataloader(\n",
    "    train_dataset_MNIST, test_dataset_MNIST, 128)\n",
    "\n",
    "train_dataloader_CIFAR10, test_dataloader_CIFAR10 = create_dataloader(\n",
    "    train_dataset_CIFAR10, test_dataset_CIFAR10, 128)\n"
   ]
  },
  {
   "cell_type": "markdown",
   "metadata": {
    "id": "tR4lZINLn95j"
   },
   "source": [
    "### Show one sample from each dataset"
   ]
  },
  {
   "cell_type": "code",
   "execution_count": 8,
   "metadata": {
    "id": "5XJC_3ut-vXE"
   },
   "outputs": [],
   "source": [
    "def show_sample(train_dataloader, mean, std):\n",
    "  # Check out what's inside the training dataloader\n",
    "  train_features_batch, train_labels_batch = next(iter(train_dataloader))\n",
    "  print(\"train_features_batch.shape = \" + str(train_features_batch.shape) +\n",
    "        \", train_labels_batch.shape = \" + str(train_labels_batch.shape))\n",
    "  img, label = train_features_batch[0], train_labels_batch[0]\n",
    "  img = std * img + mean\n",
    "  plt.imshow(img.permute(1, 2, 0), cmap='gray')\n",
    "  plt.axis(\"Off\");\n",
    "  print(f\"Image size: {img.shape}\")\n",
    "  print(f\"Label: {label}\")"
   ]
  },
  {
   "cell_type": "code",
   "execution_count": 9,
   "metadata": {
    "colab": {
     "base_uri": "https://localhost:8080/",
     "height": 458
    },
    "id": "dXl1X9lQ-9vy",
    "outputId": "c37e73db-f9a9-45c5-feb9-efefc31fcee3"
   },
   "outputs": [
    {
     "name": "stdout",
     "output_type": "stream",
     "text": [
      "train_features_batch.shape = torch.Size([128, 1, 28, 28]), train_labels_batch.shape = torch.Size([128])\n",
      "Image size: torch.Size([1, 28, 28])\n",
      "Label: 7\n"
     ]
    },
    {
     "data": {
      "image/png": "[encoded data removed]",
      "text/plain": [
       "<Figure size 640x480 with 1 Axes>"
      ]
     },
     "metadata": {},
     "output_type": "display_data"
    }
   ],
   "source": [
    "# FashionMNIST sample\n",
    "show_sample(train_dataloader_FashionMNIST, mean, std)"
   ]
  },
  {
   "cell_type": "code",
   "execution_count": 10,
   "metadata": {
    "colab": {
     "base_uri": "https://localhost:8080/",
     "height": 458
    },
    "id": "yv1kaPK4-9yq",
    "outputId": "6088dadc-0206-4062-f48f-fb42aa5977df"
   },
   "outputs": [
    {
     "name": "stdout",
     "output_type": "stream",
     "text": [
      "train_features_batch.shape = torch.Size([128, 1, 28, 28]), train_labels_batch.shape = torch.Size([128])\n",
      "Image size: torch.Size([1, 28, 28])\n",
      "Label: 8\n"
     ]
    },
    {
     "data": {
      "image/png": "[encoded data removed]",
      "text/plain": [
       "<Figure size 640x480 with 1 Axes>"
      ]
     },
     "metadata": {},
     "output_type": "display_data"
    }
   ],
   "source": [
    "# MNIST sample\n",
    "show_sample(train_dataloader_MNIST, mean, std)"
   ]
  },
  {
   "cell_type": "code",
   "execution_count": 11,
   "metadata": {
    "colab": {
     "base_uri": "https://localhost:8080/",
     "height": 458
    },
    "id": "2HhztlvF-95j",
    "outputId": "e0f8b8ad-941a-49f5-f99e-b64a5ff9d721"
   },
   "outputs": [
    {
     "name": "stdout",
     "output_type": "stream",
     "text": [
      "train_features_batch.shape = torch.Size([128, 3, 32, 32]), train_labels_batch.shape = torch.Size([128])\n",
      "Image size: torch.Size([3, 32, 32])\n",
      "Label: 3\n"
     ]
    },
    {
     "data": {
      "image/png": "[encoded data removed]",
      "text/plain": [
       "<Figure size 640x480 with 1 Axes>"
      ]
     },
     "metadata": {},
     "output_type": "display_data"
    }
   ],
   "source": [
    "# CIFAR10 sample\n",
    "show_sample(train_dataloader_CIFAR10, mean, std)"
   ]
  },
  {
   "cell_type": "markdown",
   "metadata": {
    "id": "TkVRaxus8G79"
   },
   "source": [
    "## Part2: Implementing Structures"
   ]
  },
  {
   "cell_type": "markdown",
   "metadata": {
    "id": "KUUBvYEcBQqu"
   },
   "source": [
    "### Define number of classes from each dataset"
   ]
  },
  {
   "cell_type": "code",
   "execution_count": 13,
   "metadata": {
    "id": "iwNkmHW4z0Za"
   },
   "outputs": [],
   "source": [
    "num_classes_MNIST = len(train_dataset_MNIST.classes)\n",
    "num_classes_FashionMNIST = len(train_dataset_FashionMNIST.classes)\n",
    "num_classes_CIFAR10 = len(train_dataset_CIFAR10.classes)"
   ]
  },
  {
   "cell_type": "markdown",
   "metadata": {
    "id": "czHT5rxsosgc"
   },
   "source": [
    "### Create SCNNB model"
   ]
  },
  {
   "cell_type": "code",
   "execution_count": 12,
   "metadata": {
    "id": "j9JbrQVUWw3v"
   },
   "outputs": [],
   "source": [
    "# Create a shallow convolutional neural network \n",
    "class SCNNB(nn.Module):\n",
    "    def __init__(self, input_shape, hidden_shape, output_shape):\n",
    "        super().__init__()\n",
    "        \n",
    "        self.CNN_block = nn.Sequential(\n",
    "            nn.Conv2d(input_shape, 32, kernel_size = 3),\n",
    "            nn.BatchNorm2d(32),\n",
    "            nn.ReLU(),\n",
    "            nn.MaxPool2d(kernel_size=2, stride=2),\n",
    "            nn.Conv2d(32, 64, kernel_size = 3),\n",
    "            nn.BatchNorm2d(64),\n",
    "            nn.ReLU(),\n",
    "            nn.MaxPool2d(kernel_size=2, stride=2)\n",
    "        )\n",
    "\n",
    "        self.classifier = nn.Sequential(\n",
    "            nn.Flatten(),\n",
    "            nn.Linear(in_features = 64*hidden_shape*hidden_shape, out_features = 1280),\n",
    "            nn.ReLU(),\n",
    "            nn.Dropout(0.5),\n",
    "            nn.Linear(in_features = 1280, out_features = output_shape)\n",
    "\n",
    "        )\n",
    "    \n",
    "    def forward(self, x: torch.Tensor):\n",
    "        # print(x.shape)\n",
    "        x = self.CNN_block(x)\n",
    "        # print(x.shape)\n",
    "        x = self.classifier(x)\n",
    "        # print(x.shape)\n",
    "        return x\n"
   ]
  },
  {
   "cell_type": "code",
   "execution_count": 14,
   "metadata": {
    "id": "EJZcCO_ZnfA9"
   },
   "outputs": [],
   "source": [
    "model1 = SCNNB(input_shape=1, hidden_shape=5, output_shape=num_classes_MNIST)\n",
    "model2 = SCNNB(input_shape=1, hidden_shape=5, output_shape=num_classes_FashionMNIST)\n",
    "model3 = SCNNB(input_shape=3, hidden_shape=6, output_shape=num_classes_CIFAR10)"
   ]
  },
  {
   "cell_type": "markdown",
   "metadata": {
    "id": "VWnuKFmXBaMu"
   },
   "source": [
    "Check input of SCNNB model"
   ]
  },
  {
   "cell_type": "code",
   "execution_count": 15,
   "metadata": {
    "colab": {
     "base_uri": "https://localhost:8080/"
    },
    "id": "3JMyU1B7trB_",
    "outputId": "dbca644f-45c6-4457-ac35-6a55482c8c6a"
   },
   "outputs": [
    {
     "data": {
      "text/plain": [
       "torch.Size([1, 10])"
      ]
     },
     "execution_count": 15,
     "metadata": {},
     "output_type": "execute_result"
    }
   ],
   "source": [
    "random_sample = torch.randn((1, 3, 32, 32))\n",
    "model3(random_sample).shape"
   ]
  },
  {
   "cell_type": "markdown",
   "metadata": {
    "id": "BhFlj1t00fmN"
   },
   "source": [
    "### Create SCNNB-a model"
   ]
  },
  {
   "cell_type": "code",
   "execution_count": 16,
   "metadata": {
    "id": "1iUaSsdk0dit"
   },
   "outputs": [],
   "source": [
    "# Create a shallow convolutional neural network \n",
    "class SCNNB_a(nn.Module):\n",
    "    def __init__(self, input_shape, hidden_shape, output_shape):\n",
    "        super().__init__()\n",
    "        \n",
    "        self.CNN_block = nn.Sequential(\n",
    "            nn.Conv2d(input_shape, 32, kernel_size = 3),\n",
    "            # nn.BatchNorm2d(32),\n",
    "            nn.ReLU(),\n",
    "            nn.MaxPool2d(kernel_size=2, stride=2),\n",
    "            nn.Conv2d(32, 64, kernel_size = 3),\n",
    "            nn.BatchNorm2d(64),\n",
    "            nn.ReLU(),\n",
    "            nn.MaxPool2d(kernel_size=2, stride=2)\n",
    "        )\n",
    "\n",
    "        self.classifier = nn.Sequential(\n",
    "            nn.Flatten(),\n",
    "            nn.Linear(in_features = 64*hidden_shape*hidden_shape, out_features = 1280),\n",
    "            nn.ReLU(),\n",
    "            nn.Dropout(0.5),\n",
    "            nn.Linear(in_features = 1280, out_features = output_shape)\n",
    "\n",
    "        )\n",
    "    \n",
    "    def forward(self, x: torch.Tensor):\n",
    "        # print(x.shape)\n",
    "        x = self.CNN_block(x)\n",
    "        # print(x.shape)\n",
    "        x = self.classifier(x)\n",
    "        # print(x.shape)\n",
    "        return x\n"
   ]
  },
  {
   "cell_type": "code",
   "execution_count": 17,
   "metadata": {
    "id": "b62kkxW8062c"
   },
   "outputs": [],
   "source": [
    "model4 = SCNNB_a(input_shape=1, hidden_shape=5, output_shape=num_classes_MNIST)\n",
    "model5 = SCNNB_a(input_shape=1, hidden_shape=5, output_shape=num_classes_FashionMNIST)\n",
    "model6 = SCNNB_a(input_shape=3, hidden_shape=6, output_shape=num_classes_CIFAR10)"
   ]
  },
  {
   "cell_type": "markdown",
   "metadata": {
    "id": "U8cmDmo40oZ1"
   },
   "source": [
    "### Create SCNNB-b model"
   ]
  },
  {
   "cell_type": "code",
   "execution_count": 18,
   "metadata": {
    "id": "8tElgkFs0dlE"
   },
   "outputs": [],
   "source": [
    "# Create a shallow convolutional neural network \n",
    "class SCNNB_b(nn.Module):\n",
    "    def __init__(self, input_shape, hidden_shape, output_shape):\n",
    "        super().__init__()\n",
    "        \n",
    "        self.CNN_block = nn.Sequential(\n",
    "            nn.Conv2d(input_shape, 32, kernel_size = 3),\n",
    "            # nn.BatchNorm2d(32),\n",
    "            nn.ReLU(),\n",
    "            nn.MaxPool2d(kernel_size=2, stride=2),\n",
    "            nn.Conv2d(32, 64, kernel_size = 3),\n",
    "            # nn.BatchNorm2d(64),\n",
    "            nn.ReLU(),\n",
    "            nn.MaxPool2d(kernel_size=2, stride=2)\n",
    "        )\n",
    "\n",
    "        self.classifier = nn.Sequential(\n",
    "            nn.Flatten(),\n",
    "            nn.Linear(in_features = 64*hidden_shape*hidden_shape, out_features = 1280),\n",
    "            nn.ReLU(),\n",
    "            nn.Dropout(0.5),\n",
    "            nn.Linear(in_features = 1280, out_features = output_shape)\n",
    "\n",
    "        )\n",
    "    \n",
    "    def forward(self, x: torch.Tensor):\n",
    "        # print(x.shape)\n",
    "        x = self.CNN_block(x)\n",
    "        # print(x.shape)\n",
    "        x = self.classifier(x)\n",
    "        # print(x.shape)\n",
    "        return x\n"
   ]
  },
  {
   "cell_type": "code",
   "execution_count": 19,
   "metadata": {
    "id": "0kHmIghd1EMS"
   },
   "outputs": [],
   "source": [
    "model7 = SCNNB_b(input_shape=1, hidden_shape=5, output_shape=num_classes_MNIST)\n",
    "model8 = SCNNB_b(input_shape=1, hidden_shape=5, output_shape=num_classes_FashionMNIST)\n",
    "model9 = SCNNB_b(input_shape=3, hidden_shape=6, output_shape=num_classes_CIFAR10)"
   ]
  },
  {
   "cell_type": "markdown",
   "metadata": {
    "id": "rCZezenYp3a6"
   },
   "source": [
    "### Define `train_step` & `test_step`"
   ]
  },
  {
   "cell_type": "code",
   "execution_count": 20,
   "metadata": {
    "id": "9sMYp4JQWxee"
   },
   "outputs": [],
   "source": [
    "def train_step(model,\n",
    "               data_loader,\n",
    "               loss_fn,\n",
    "               optimizer,\n",
    "               accuracy_fn,\n",
    "               device):\n",
    "    \n",
    "    # Send model to GPU\n",
    "    model.to(device)\n",
    "    train_loss, train_acc, counter = 0, 0, 0\n",
    "    with tqdm(data_loader, desc =\"  train\") as train_tqdm:\n",
    "        for X, y in train_tqdm:\n",
    "            # Send data to GPU\n",
    "            X, y = X.to(device), y.to(device)\n",
    "\n",
    "            # 1. Forward pass\n",
    "            y_pred = model(X)\n",
    "\n",
    "            # 2. Calculate loss\n",
    "            loss = loss_fn(y_pred, y)\n",
    "            train_loss += loss\n",
    "            train_acc += accuracy_fn(true=y.cpu(),\n",
    "                                     pred=y_pred.cpu())\n",
    "            counter += 1\n",
    "            train_tqdm.set_postfix(train_acc=train_acc/counter, train_loss=train_loss.item()/counter, refresh=True)\n",
    "\n",
    "            # 3. Optimizer zero grad\n",
    "            optimizer.zero_grad()\n",
    "\n",
    "            # 4. Loss backward\n",
    "            loss.backward()\n",
    "\n",
    "            # 5. Optimizer step\n",
    "            optimizer.step()\n",
    "\n",
    "        # Calculate loss and accuracy per epoch and print out what's happening\n",
    "        train_loss /= len(data_loader)\n",
    "        train_acc /= len(data_loader)\n",
    "        \n",
    "    return train_loss.item(), train_acc"
   ]
  },
  {
   "cell_type": "code",
   "execution_count": 21,
   "metadata": {
    "id": "FTYq3ECWocOw"
   },
   "outputs": [],
   "source": [
    "def test_step(model,\n",
    "              data_loader,\n",
    "              loss_fn,\n",
    "              accuracy_fn,\n",
    "              device):\n",
    "    \n",
    "    # Send model to GPU\n",
    "    model.to(device)\n",
    "\n",
    "    # put model in eval mode\n",
    "    model.eval() \n",
    "    test_loss, test_acc, counter = 0, 0, 0\n",
    "    with tqdm(data_loader, desc =\"   test\") as test_tqdm:\n",
    "        for X, y in test_tqdm:\n",
    "            # Send data to GPU\n",
    "            X, y = X.to(device), y.to(device)\n",
    "            \n",
    "            # 1. Forward pass\n",
    "            test_pred = model(X)\n",
    "            \n",
    "            # 2. Calculate loss and accuracy\n",
    "            test_loss += loss_fn(test_pred, y)\n",
    "            test_acc += accuracy_fn(true=y.cpu(),\n",
    "                                    pred=test_pred.cpu())\n",
    "            counter += 1\n",
    "            test_tqdm.set_postfix(test_acc=test_acc/counter, test_loss=test_loss.item()/counter, refresh=True)\n",
    "\n",
    "        # Adjust metrics and print out\n",
    "        test_loss /= len(data_loader)\n",
    "        test_acc  /= len(data_loader)\n",
    "            \n",
    "    return test_loss.item(), test_acc"
   ]
  },
  {
   "cell_type": "markdown",
   "metadata": {
    "id": "YG9_ov-j5VXH"
   },
   "source": [
    "### Define `accuracy_fn`, `loss_fn` and `optimizer`"
   ]
  },
  {
   "cell_type": "code",
   "execution_count": 22,
   "metadata": {
    "id": "swXG_k__pp76"
   },
   "outputs": [],
   "source": [
    "def accuracy_fn(true, pred):\n",
    "    pred = F.softmax(pred, dim = 1)\n",
    "    true = torch.zeros(pred.shape[0], pred.shape[1]).scatter_(1, true.unsqueeze(1), 1.)\n",
    "    acc = (true.argmax(-1) == pred.argmax(-1)).float().detach().numpy()\n",
    "    acc = float((100 * acc.sum()) / len(acc))\n",
    "    return round(acc, 5)"
   ]
  },
  {
   "cell_type": "markdown",
   "metadata": {
    "id": "yU7OXAal5oN1"
   },
   "source": [
    "Opimizer is stochastic gradient decsent with constant learning rate equaled 0.02"
   ]
  },
  {
   "cell_type": "code",
   "execution_count": 23,
   "metadata": {
    "id": "GnP185oLqEz6"
   },
   "outputs": [],
   "source": [
    "def optimizer(model):\n",
    "  optimizer = optim.SGD(model.parameters(), lr=0.02, momentum=0.9, weight_decay=0.000005)\n",
    "  return optimizer"
   ]
  },
  {
   "cell_type": "code",
   "execution_count": 24,
   "metadata": {
    "id": "9xcm4uFEWxg3"
   },
   "outputs": [],
   "source": [
    "loss_fn = nn.CrossEntropyLoss()\n",
    "device = torch.device(\"cuda:0\" if torch.cuda.is_available() else \"cpu\")\n",
    "\n",
    "optimizer1 = optimizer(model1)\n",
    "optimizer2 = optimizer(model2)\n",
    "optimizer3 = optimizer(model3)\n",
    "optimizer4 = optimizer(model4)\n",
    "optimizer5 = optimizer(model5)\n",
    "optimizer6 = optimizer(model6)\n",
    "optimizer7 = optimizer(model7)\n",
    "optimizer8 = optimizer(model8)\n",
    "optimizer9 = optimizer(model9)"
   ]
  },
  {
   "cell_type": "markdown",
   "metadata": {
    "id": "khaeAEpE64fF"
   },
   "source": [
    "### Define `fit` function"
   ]
  },
  {
   "cell_type": "code",
   "execution_count": 25,
   "metadata": {
    "id": "69eOBTrSq376"
   },
   "outputs": [],
   "source": [
    "def fit(model, train_dataloader, test_dataloader, optimizer, epochs):\n",
    "  train_epoch_loss = []\n",
    "  train_epoch_accuracy = []\n",
    "  test_epoch_loss = []\n",
    "  test_epoch_accuracy = []\n",
    "\n",
    "  train_time_start = timer()\n",
    "\n",
    "  for epoch in range(epochs):\n",
    "      print(\"EPOCH {}/{} :\".format(epoch +1, epochs))\n",
    "      train_loss, train_acc = train_step(data_loader=train_dataloader,\n",
    "                                                model=model, \n",
    "                                                loss_fn=loss_fn,\n",
    "                                                optimizer=optimizer,\n",
    "                                                accuracy_fn=accuracy_fn,\n",
    "                                                device=device\n",
    "                                                )\n",
    "      test_loss, test_acc = test_step(data_loader=test_dataloader,\n",
    "                                      model=model,\n",
    "                                      loss_fn=loss_fn,\n",
    "                                      accuracy_fn=accuracy_fn,\n",
    "                                      device=device\n",
    "                                      )\n",
    "      \n",
    "      train_epoch_loss.append(train_loss)\n",
    "      train_epoch_accuracy.append(train_acc)\n",
    "      test_epoch_loss.append(test_loss)\n",
    "      test_epoch_accuracy.append(test_acc)\n",
    "\n",
    "  train_time_end = timer()\n",
    "  total_time = train_time_end - train_time_start\n",
    "  print(f\"\\n\\nTrain time: {total_time:.5f} seconds\")\n",
    "  return train_epoch_loss, test_epoch_loss, train_epoch_accuracy, test_epoch_accuracy"
   ]
  },
  {
   "cell_type": "markdown",
   "metadata": {
    "id": "syxKAA9c9z75"
   },
   "source": [
    "## Part3: Implementation Results"
   ]
  },
  {
   "cell_type": "markdown",
   "metadata": {
    "id": "QhZa-59V89lr"
   },
   "source": [
    "### Define plot function"
   ]
  },
  {
   "cell_type": "code",
   "execution_count": 53,
   "metadata": {
    "id": "7IdV3IJcovJQ"
   },
   "outputs": [],
   "source": [
    "def accloss_plots(train_loss1, test_loss1, train_acc1, test_acc1,\n",
    "                  train_loss2, test_loss2, train_acc2, test_acc2,\n",
    "                  train_loss3, test_loss3, train_acc3, test_acc3):\n",
    "    num_epochs = len(train_loss1)\n",
    "    plt.figure(figsize=(13, 10))\n",
    "\n",
    "    # Plot training loss for all sets\n",
    "    plt.subplot(221)\n",
    "    plt.plot(train_loss1, '-.', label='Train Set SCNNB')\n",
    "    plt.plot(train_loss2, '-.', label='Train Set SCNNB-a')\n",
    "    plt.plot(train_loss3, '-.', label='Train Set SCNNB-b')\n",
    "    plt.xlabel('Epochs', fontsize=10, labelpad=8)\n",
    "    plt.title('Loss', fontsize=25, pad=15)\n",
    "    plt.grid()\n",
    "    plt.legend()\n",
    "    sns.despine()\n",
    "\n",
    "    # Plot training accuracy for all sets\n",
    "    plt.subplot(222)\n",
    "    plt.plot(train_acc1, '-.', label='Train Set SCNNB')\n",
    "    plt.plot(train_acc2, '-.', label='Train Set SCNNB-a')\n",
    "    plt.plot(train_acc3, '-.', label='Train Set SCNNB-b')\n",
    "    plt.xlabel('Epochs', fontsize=10, labelpad=8)\n",
    "    plt.title('Accuracy', fontsize=25, pad=15)\n",
    "    plt.tight_layout(pad=3)\n",
    "    plt.grid()\n",
    "    plt.legend()\n",
    "    sns.despine()\n",
    "\n",
    "    # Plot testing loss for all sets\n",
    "    plt.subplot(223)\n",
    "    plt.plot(test_loss1, '-.', label='Test Set SCNNB')\n",
    "    plt.plot(test_loss2, '-.', label='Test Set SCNNB-a')\n",
    "    plt.plot(test_loss3, '-.', label='Test Set SCNNB-b')\n",
    "    plt.xlabel('Epochs', fontsize=10, labelpad=8)\n",
    "    plt.title('Loss', fontsize=25, pad=15)\n",
    "    plt.grid()\n",
    "    plt.legend()\n",
    "    sns.despine()\n",
    "\n",
    "    # Plot testing accuracy for all sets\n",
    "    plt.subplot(224)\n",
    "    plt.plot(test_acc1, '-.', label='Test Set SCNNB')\n",
    "    plt.plot(test_acc2, '-.', label='Test Set SCNNB-a')\n",
    "    plt.plot(test_acc3, '-.', label='Test Set SCNNB-b')\n",
    "    plt.xlabel('Epochs', fontsize=10, labelpad=8)\n",
    "    plt.title('Accuracy', fontsize=25, pad=15)\n",
    "    plt.tight_layout(pad=3)\n",
    "    plt.grid()\n",
    "    plt.legend()\n",
    "    sns.despine()    \n",
    "\n",
    "    plt.show()\n"
   ]
  },
  {
   "cell_type": "markdown",
   "metadata": {
    "id": "g9sDfzDw8pb9"
   },
   "source": [
    "### Fit for MNIST dataset"
   ]
  },
  {
   "cell_type": "code",
   "execution_count": 26,
   "metadata": {
    "colab": {
     "base_uri": "https://localhost:8080/"
    },
    "id": "LPdMpKpRsXKp",
    "outputId": "fd70114b-08c8-4d37-b75d-8dda08d498a4"
   },
   "outputs": [
    {
     "name": "stdout",
     "output_type": "stream",
     "text": [
      "EPOCH 1/40 :\n"
     ]
    },
    {
     "name": "stderr",
     "output_type": "stream",
     "text": [
      "  train: 100%|██████████| 469/469 [00:27<00:00, 17.17it/s, train_acc=91.8, train_loss=0.253]\n",
      "   test: 100%|██████████| 79/79 [00:03<00:00, 20.59it/s, test_acc=97.1, test_loss=0.0864]\n"
     ]
    },
    {
     "name": "stdout",
     "output_type": "stream",
     "text": [
      "EPOCH 2/40 :\n"
     ]
    },
    {
     "name": "stderr",
     "output_type": "stream",
     "text": [
      "  train: 100%|██████████| 469/469 [00:25<00:00, 18.20it/s, train_acc=97.8, train_loss=0.0697]\n",
      "   test: 100%|██████████| 79/79 [00:03<00:00, 22.63it/s, test_acc=98.2, test_loss=0.0517]\n"
     ]
    },
    {
     "name": "stdout",
     "output_type": "stream",
     "text": [
      "EPOCH 3/40 :\n"
     ]
    },
    {
     "name": "stderr",
     "output_type": "stream",
     "text": [
      "  train: 100%|██████████| 469/469 [00:19<00:00, 24.22it/s, train_acc=98.5, train_loss=0.0458]\n",
      "   test: 100%|██████████| 79/79 [00:02<00:00, 28.44it/s, test_acc=98.5, test_loss=0.0437]\n"
     ]
    },
    {
     "name": "stdout",
     "output_type": "stream",
     "text": [
      "EPOCH 4/40 :\n"
     ]
    },
    {
     "name": "stderr",
     "output_type": "stream",
     "text": [
      "  train: 100%|██████████| 469/469 [00:17<00:00, 26.68it/s, train_acc=98.8, train_loss=0.0369]\n",
      "   test: 100%|██████████| 79/79 [00:03<00:00, 20.00it/s, test_acc=98.7, test_loss=0.0395]\n"
     ]
    },
    {
     "name": "stdout",
     "output_type": "stream",
     "text": [
      "EPOCH 5/40 :\n"
     ]
    },
    {
     "name": "stderr",
     "output_type": "stream",
     "text": [
      "  train: 100%|██████████| 469/469 [00:17<00:00, 26.14it/s, train_acc=99, train_loss=0.0303]\n",
      "   test: 100%|██████████| 79/79 [00:02<00:00, 28.71it/s, test_acc=98.5, test_loss=0.0428]\n"
     ]
    },
    {
     "name": "stdout",
     "output_type": "stream",
     "text": [
      "EPOCH 6/40 :\n"
     ]
    },
    {
     "name": "stderr",
     "output_type": "stream",
     "text": [
      "  train: 100%|██████████| 469/469 [00:18<00:00, 24.86it/s, train_acc=99.2, train_loss=0.0251]\n",
      "   test: 100%|██████████| 79/79 [00:03<00:00, 22.14it/s, test_acc=98.8, test_loss=0.0375]\n"
     ]
    },
    {
     "name": "stdout",
     "output_type": "stream",
     "text": [
      "EPOCH 7/40 :\n"
     ]
    },
    {
     "name": "stderr",
     "output_type": "stream",
     "text": [
      "  train: 100%|██████████| 469/469 [00:17<00:00, 26.22it/s, train_acc=99.4, train_loss=0.0197]\n",
      "   test: 100%|██████████| 79/79 [00:07<00:00, 10.81it/s, test_acc=98.8, test_loss=0.0365]\n"
     ]
    },
    {
     "name": "stdout",
     "output_type": "stream",
     "text": [
      "EPOCH 8/40 :\n"
     ]
    },
    {
     "name": "stderr",
     "output_type": "stream",
     "text": [
      "  train: 100%|██████████| 469/469 [00:25<00:00, 18.19it/s, train_acc=99.4, train_loss=0.0171]\n",
      "   test: 100%|██████████| 79/79 [00:03<00:00, 20.93it/s, test_acc=98.7, test_loss=0.0409]\n"
     ]
    },
    {
     "name": "stdout",
     "output_type": "stream",
     "text": [
      "EPOCH 9/40 :\n"
     ]
    },
    {
     "name": "stderr",
     "output_type": "stream",
     "text": [
      "  train: 100%|██████████| 469/469 [00:21<00:00, 21.43it/s, train_acc=99.5, train_loss=0.0148]\n",
      "   test: 100%|██████████| 79/79 [00:02<00:00, 27.20it/s, test_acc=98.9, test_loss=0.0344]\n"
     ]
    },
    {
     "name": "stdout",
     "output_type": "stream",
     "text": [
      "EPOCH 10/40 :\n"
     ]
    },
    {
     "name": "stderr",
     "output_type": "stream",
     "text": [
      "  train: 100%|██████████| 469/469 [00:18<00:00, 25.61it/s, train_acc=99.6, train_loss=0.012]\n",
      "   test: 100%|██████████| 79/79 [00:03<00:00, 23.09it/s, test_acc=99, test_loss=0.035]\n"
     ]
    },
    {
     "name": "stdout",
     "output_type": "stream",
     "text": [
      "EPOCH 11/40 :\n"
     ]
    },
    {
     "name": "stderr",
     "output_type": "stream",
     "text": [
      "  train: 100%|██████████| 469/469 [00:18<00:00, 26.03it/s, train_acc=99.6, train_loss=0.0114]\n",
      "   test: 100%|██████████| 79/79 [00:02<00:00, 28.64it/s, test_acc=98.7, test_loss=0.0425]\n"
     ]
    },
    {
     "name": "stdout",
     "output_type": "stream",
     "text": [
      "EPOCH 12/40 :\n"
     ]
    },
    {
     "name": "stderr",
     "output_type": "stream",
     "text": [
      "  train: 100%|██████████| 469/469 [00:20<00:00, 23.12it/s, train_acc=99.7, train_loss=0.00908]\n",
      "   test: 100%|██████████| 79/79 [00:02<00:00, 28.33it/s, test_acc=98.9, test_loss=0.0371]\n"
     ]
    },
    {
     "name": "stdout",
     "output_type": "stream",
     "text": [
      "EPOCH 13/40 :\n"
     ]
    },
    {
     "name": "stderr",
     "output_type": "stream",
     "text": [
      "  train: 100%|██████████| 469/469 [00:20<00:00, 23.19it/s, train_acc=99.8, train_loss=0.00672]\n",
      "   test: 100%|██████████| 79/79 [00:02<00:00, 27.52it/s, test_acc=98.8, test_loss=0.0414]\n"
     ]
    },
    {
     "name": "stdout",
     "output_type": "stream",
     "text": [
      "EPOCH 14/40 :\n"
     ]
    },
    {
     "name": "stderr",
     "output_type": "stream",
     "text": [
      "  train: 100%|██████████| 469/469 [00:18<00:00, 25.50it/s, train_acc=99.8, train_loss=0.00714]\n",
      "   test: 100%|██████████| 79/79 [00:05<00:00, 15.33it/s, test_acc=98.9, test_loss=0.0416]\n"
     ]
    },
    {
     "name": "stdout",
     "output_type": "stream",
     "text": [
      "EPOCH 15/40 :\n"
     ]
    },
    {
     "name": "stderr",
     "output_type": "stream",
     "text": [
      "  train: 100%|██████████| 469/469 [00:18<00:00, 25.56it/s, train_acc=99.8, train_loss=0.00523]\n",
      "   test: 100%|██████████| 79/79 [00:02<00:00, 28.01it/s, test_acc=99, test_loss=0.0356]\n"
     ]
    },
    {
     "name": "stdout",
     "output_type": "stream",
     "text": [
      "EPOCH 16/40 :\n"
     ]
    },
    {
     "name": "stderr",
     "output_type": "stream",
     "text": [
      "  train: 100%|██████████| 469/469 [00:19<00:00, 23.83it/s, train_acc=99.8, train_loss=0.00656]\n",
      "   test: 100%|██████████| 79/79 [00:02<00:00, 27.80it/s, test_acc=99, test_loss=0.0425]\n"
     ]
    },
    {
     "name": "stdout",
     "output_type": "stream",
     "text": [
      "EPOCH 17/40 :\n"
     ]
    },
    {
     "name": "stderr",
     "output_type": "stream",
     "text": [
      "  train: 100%|██████████| 469/469 [00:18<00:00, 25.19it/s, train_acc=99.9, train_loss=0.00411]\n",
      "   test: 100%|██████████| 79/79 [00:03<00:00, 25.72it/s, test_acc=99, test_loss=0.0416]\n"
     ]
    },
    {
     "name": "stdout",
     "output_type": "stream",
     "text": [
      "EPOCH 18/40 :\n"
     ]
    },
    {
     "name": "stderr",
     "output_type": "stream",
     "text": [
      "  train: 100%|██████████| 469/469 [00:18<00:00, 26.04it/s, train_acc=99.9, train_loss=0.004]\n",
      "   test: 100%|██████████| 79/79 [00:03<00:00, 25.10it/s, test_acc=99, test_loss=0.0408]\n"
     ]
    },
    {
     "name": "stdout",
     "output_type": "stream",
     "text": [
      "EPOCH 19/40 :\n"
     ]
    },
    {
     "name": "stderr",
     "output_type": "stream",
     "text": [
      "  train: 100%|██████████| 469/469 [00:18<00:00, 24.81it/s, train_acc=99.9, train_loss=0.00378]\n",
      "   test: 100%|██████████| 79/79 [00:03<00:00, 24.57it/s, test_acc=99, test_loss=0.0468]\n"
     ]
    },
    {
     "name": "stdout",
     "output_type": "stream",
     "text": [
      "EPOCH 20/40 :\n"
     ]
    },
    {
     "name": "stderr",
     "output_type": "stream",
     "text": [
      "  train: 100%|██████████| 469/469 [00:19<00:00, 24.14it/s, train_acc=99.9, train_loss=0.00352]\n",
      "   test: 100%|██████████| 79/79 [00:02<00:00, 27.09it/s, test_acc=98.8, test_loss=0.051]\n"
     ]
    },
    {
     "name": "stdout",
     "output_type": "stream",
     "text": [
      "EPOCH 21/40 :\n"
     ]
    },
    {
     "name": "stderr",
     "output_type": "stream",
     "text": [
      "  train: 100%|██████████| 469/469 [00:17<00:00, 26.06it/s, train_acc=99.9, train_loss=0.00243]\n",
      "   test: 100%|██████████| 79/79 [00:03<00:00, 21.54it/s, test_acc=98.9, test_loss=0.0473]\n"
     ]
    },
    {
     "name": "stdout",
     "output_type": "stream",
     "text": [
      "EPOCH 22/40 :\n"
     ]
    },
    {
     "name": "stderr",
     "output_type": "stream",
     "text": [
      "  train: 100%|██████████| 469/469 [00:18<00:00, 25.66it/s, train_acc=99.9, train_loss=0.00188]\n",
      "   test: 100%|██████████| 79/79 [00:02<00:00, 29.02it/s, test_acc=99, test_loss=0.044]\n"
     ]
    },
    {
     "name": "stdout",
     "output_type": "stream",
     "text": [
      "EPOCH 23/40 :\n"
     ]
    },
    {
     "name": "stderr",
     "output_type": "stream",
     "text": [
      "  train: 100%|██████████| 469/469 [00:19<00:00, 24.59it/s, train_acc=99.9, train_loss=0.00311]\n",
      "   test: 100%|██████████| 79/79 [00:02<00:00, 28.11it/s, test_acc=98.9, test_loss=0.0493]\n"
     ]
    },
    {
     "name": "stdout",
     "output_type": "stream",
     "text": [
      "EPOCH 24/40 :\n"
     ]
    },
    {
     "name": "stderr",
     "output_type": "stream",
     "text": [
      "  train: 100%|██████████| 469/469 [00:17<00:00, 26.17it/s, train_acc=99.9, train_loss=0.00158]\n",
      "   test: 100%|██████████| 79/79 [00:03<00:00, 22.40it/s, test_acc=99, test_loss=0.0471]\n"
     ]
    },
    {
     "name": "stdout",
     "output_type": "stream",
     "text": [
      "EPOCH 25/40 :\n"
     ]
    },
    {
     "name": "stderr",
     "output_type": "stream",
     "text": [
      "  train: 100%|██████████| 469/469 [00:18<00:00, 25.74it/s, train_acc=99.9, train_loss=0.00204]\n",
      "   test: 100%|██████████| 79/79 [00:02<00:00, 28.28it/s, test_acc=98.7, test_loss=0.0573]\n"
     ]
    },
    {
     "name": "stdout",
     "output_type": "stream",
     "text": [
      "EPOCH 26/40 :\n"
     ]
    },
    {
     "name": "stderr",
     "output_type": "stream",
     "text": [
      "  train: 100%|██████████| 469/469 [00:19<00:00, 24.49it/s, train_acc=99.9, train_loss=0.00231]\n",
      "   test: 100%|██████████| 79/79 [00:02<00:00, 27.88it/s, test_acc=99.1, test_loss=0.0474]\n"
     ]
    },
    {
     "name": "stdout",
     "output_type": "stream",
     "text": [
      "EPOCH 27/40 :\n"
     ]
    },
    {
     "name": "stderr",
     "output_type": "stream",
     "text": [
      "  train: 100%|██████████| 469/469 [00:17<00:00, 26.09it/s, train_acc=99.9, train_loss=0.00193]\n",
      "   test: 100%|██████████| 79/79 [00:03<00:00, 21.66it/s, test_acc=99.1, test_loss=0.0464]\n"
     ]
    },
    {
     "name": "stdout",
     "output_type": "stream",
     "text": [
      "EPOCH 28/40 :\n"
     ]
    },
    {
     "name": "stderr",
     "output_type": "stream",
     "text": [
      "  train: 100%|██████████| 469/469 [00:18<00:00, 26.00it/s, train_acc=100, train_loss=0.00116]\n",
      "   test: 100%|██████████| 79/79 [00:02<00:00, 27.39it/s, test_acc=99.1, test_loss=0.0404]\n"
     ]
    },
    {
     "name": "stdout",
     "output_type": "stream",
     "text": [
      "EPOCH 29/40 :\n"
     ]
    },
    {
     "name": "stderr",
     "output_type": "stream",
     "text": [
      "  train: 100%|██████████| 469/469 [00:18<00:00, 25.08it/s, train_acc=100, train_loss=0.000743]\n",
      "   test: 100%|██████████| 79/79 [00:02<00:00, 27.73it/s, test_acc=99, test_loss=0.0512]\n"
     ]
    },
    {
     "name": "stdout",
     "output_type": "stream",
     "text": [
      "EPOCH 30/40 :\n"
     ]
    },
    {
     "name": "stderr",
     "output_type": "stream",
     "text": [
      "  train: 100%|██████████| 469/469 [00:18<00:00, 25.84it/s, train_acc=100, train_loss=0.000981]\n",
      "   test: 100%|██████████| 79/79 [00:03<00:00, 23.56it/s, test_acc=99.1, test_loss=0.0403]\n"
     ]
    },
    {
     "name": "stdout",
     "output_type": "stream",
     "text": [
      "EPOCH 31/40 :\n"
     ]
    },
    {
     "name": "stderr",
     "output_type": "stream",
     "text": [
      "  train: 100%|██████████| 469/469 [00:18<00:00, 25.39it/s, train_acc=100, train_loss=0.00189]\n",
      "   test: 100%|██████████| 79/79 [00:02<00:00, 27.48it/s, test_acc=99.1, test_loss=0.0426]\n"
     ]
    },
    {
     "name": "stdout",
     "output_type": "stream",
     "text": [
      "EPOCH 32/40 :\n"
     ]
    },
    {
     "name": "stderr",
     "output_type": "stream",
     "text": [
      "  train: 100%|██████████| 469/469 [00:18<00:00, 25.09it/s, train_acc=99.9, train_loss=0.00166]\n",
      "   test: 100%|██████████| 79/79 [00:02<00:00, 27.23it/s, test_acc=99.1, test_loss=0.0468]\n"
     ]
    },
    {
     "name": "stdout",
     "output_type": "stream",
     "text": [
      "EPOCH 33/40 :\n"
     ]
    },
    {
     "name": "stderr",
     "output_type": "stream",
     "text": [
      "  train: 100%|██████████| 469/469 [00:17<00:00, 26.06it/s, train_acc=100, train_loss=0.00174]\n",
      "   test: 100%|██████████| 79/79 [00:03<00:00, 25.84it/s, test_acc=99, test_loss=0.0499]\n"
     ]
    },
    {
     "name": "stdout",
     "output_type": "stream",
     "text": [
      "EPOCH 34/40 :\n"
     ]
    },
    {
     "name": "stderr",
     "output_type": "stream",
     "text": [
      "  train: 100%|██████████| 469/469 [00:18<00:00, 25.42it/s, train_acc=100, train_loss=0.00071]\n",
      "   test: 100%|██████████| 79/79 [00:02<00:00, 27.18it/s, test_acc=99.1, test_loss=0.0471]\n"
     ]
    },
    {
     "name": "stdout",
     "output_type": "stream",
     "text": [
      "EPOCH 35/40 :\n"
     ]
    },
    {
     "name": "stderr",
     "output_type": "stream",
     "text": [
      "  train: 100%|██████████| 469/469 [00:18<00:00, 25.49it/s, train_acc=100, train_loss=0.00154]\n",
      "   test: 100%|██████████| 79/79 [00:03<00:00, 24.79it/s, test_acc=99.1, test_loss=0.0438]\n"
     ]
    },
    {
     "name": "stdout",
     "output_type": "stream",
     "text": [
      "EPOCH 36/40 :\n"
     ]
    },
    {
     "name": "stderr",
     "output_type": "stream",
     "text": [
      "  train: 100%|██████████| 469/469 [00:17<00:00, 26.14it/s, train_acc=100, train_loss=0.00057]\n",
      "   test: 100%|██████████| 79/79 [00:02<00:00, 28.50it/s, test_acc=99, test_loss=0.0481]\n"
     ]
    },
    {
     "name": "stdout",
     "output_type": "stream",
     "text": [
      "EPOCH 37/40 :\n"
     ]
    },
    {
     "name": "stderr",
     "output_type": "stream",
     "text": [
      "  train: 100%|██████████| 469/469 [00:18<00:00, 24.80it/s, train_acc=100, train_loss=0.000543]\n",
      "   test: 100%|██████████| 79/79 [00:02<00:00, 28.07it/s, test_acc=99.1, test_loss=0.0454]\n"
     ]
    },
    {
     "name": "stdout",
     "output_type": "stream",
     "text": [
      "EPOCH 38/40 :\n"
     ]
    },
    {
     "name": "stderr",
     "output_type": "stream",
     "text": [
      "  train: 100%|██████████| 469/469 [00:18<00:00, 25.93it/s, train_acc=100, train_loss=0.000114]\n",
      "   test: 100%|██████████| 79/79 [00:03<00:00, 20.88it/s, test_acc=99.1, test_loss=0.0446]\n"
     ]
    },
    {
     "name": "stdout",
     "output_type": "stream",
     "text": [
      "EPOCH 39/40 :\n"
     ]
    },
    {
     "name": "stderr",
     "output_type": "stream",
     "text": [
      "  train: 100%|██████████| 469/469 [00:17<00:00, 26.21it/s, train_acc=100, train_loss=0.000113]\n",
      "   test: 100%|██████████| 79/79 [00:02<00:00, 27.94it/s, test_acc=99.1, test_loss=0.0466]\n"
     ]
    },
    {
     "name": "stdout",
     "output_type": "stream",
     "text": [
      "EPOCH 40/40 :\n"
     ]
    },
    {
     "name": "stderr",
     "output_type": "stream",
     "text": [
      "  train: 100%|██████████| 469/469 [00:19<00:00, 24.43it/s, train_acc=100, train_loss=0.00012]\n",
      "   test: 100%|██████████| 79/79 [00:02<00:00, 28.41it/s, test_acc=99.1, test_loss=0.0458]"
     ]
    },
    {
     "name": "stdout",
     "output_type": "stream",
     "text": [
      "\n",
      "\n",
      "Train time: 904.50631 seconds\n"
     ]
    },
    {
     "name": "stderr",
     "output_type": "stream",
     "text": [
      "\n"
     ]
    }
   ],
   "source": [
    "train_loss1, test_loss1, train_acc1, test_acc1 = fit(\n",
    "    model1, train_dataloader_MNIST, test_dataloader_MNIST, optimizer1, 40)"
   ]
  },
  {
   "cell_type": "code",
   "execution_count": null,
   "metadata": {
    "id": "KShK_E1k1lEr"
   },
   "outputs": [],
   "source": [
    "train_loss4, test_loss4, train_acc4, test_acc4 = fit(\n",
    "    model4, train_dataloader_MNIST, test_dataloader_MNIST, optimizer4, 40)"
   ]
  },
  {
   "cell_type": "code",
   "execution_count": null,
   "metadata": {
    "id": "irTHrqZp1lbT"
   },
   "outputs": [],
   "source": [
    "train_loss7, test_loss7, train_acc7, test_acc7 = fit(\n",
    "    model7, train_dataloader_MNIST, test_dataloader_MNIST, optimizer7, 40)"
   ]
  },
  {
   "cell_type": "markdown",
   "metadata": {
    "id": "geh8BPHh9s5T"
   },
   "source": [
    "### Results for MNIST dataset"
   ]
  },
  {
   "cell_type": "code",
   "execution_count": 54,
   "metadata": {
    "colab": {
     "base_uri": "https://localhost:8080/",
     "height": 953
    },
    "id": "O3ae__B6ovL3",
    "outputId": "b2ed74cd-0a58-48b3-ca46-b585c0884526"
   },
   "outputs": [
    {
     "data": {
      "image/png": "[encoded data removed]",
      "text/plain": [
       "<Figure size 1300x1000 with 4 Axes>"
      ]
     },
     "metadata": {},
     "output_type": "display_data"
    }
   ],
   "source": [
    "accloss_plots(train_loss1, test_loss1, train_acc1, test_acc1,\n",
    "                  train_loss4, test_loss4, train_acc4, test_acc4,\n",
    "                  train_loss7, test_loss7, train_acc7, test_acc7)"
   ]
  },
  {
   "cell_type": "markdown",
   "metadata": {
    "id": "nl5sJfA_9XFV"
   },
   "source": [
    "### Fit for FashionMNIST dataset"
   ]
  },
  {
   "cell_type": "code",
   "execution_count": 29,
   "metadata": {
    "colab": {
     "base_uri": "https://localhost:8080/"
    },
    "id": "9pr6-Iu0JlEG",
    "outputId": "257adf48-e622-49aa-cc04-2d89fa66b73d"
   },
   "outputs": [
    {
     "name": "stdout",
     "output_type": "stream",
     "text": [
      "EPOCH 1/80 :\n"
     ]
    },
    {
     "name": "stderr",
     "output_type": "stream",
     "text": [
      "  train: 100%|██████████| 469/469 [00:17<00:00, 26.13it/s, train_acc=81.5, train_loss=0.512]\n",
      "   test: 100%|██████████| 79/79 [00:03<00:00, 20.39it/s, test_acc=86.4, test_loss=0.368]\n"
     ]
    },
    {
     "name": "stdout",
     "output_type": "stream",
     "text": [
      "EPOCH 2/80 :\n"
     ]
    },
    {
     "name": "stderr",
     "output_type": "stream",
     "text": [
      "  train: 100%|██████████| 469/469 [00:18<00:00, 25.35it/s, train_acc=88.8, train_loss=0.307]\n",
      "   test: 100%|██████████| 79/79 [00:02<00:00, 27.77it/s, test_acc=89.2, test_loss=0.298]\n"
     ]
    },
    {
     "name": "stdout",
     "output_type": "stream",
     "text": [
      "EPOCH 3/80 :\n"
     ]
    },
    {
     "name": "stderr",
     "output_type": "stream",
     "text": [
      "  train: 100%|██████████| 469/469 [00:18<00:00, 25.50it/s, train_acc=90.3, train_loss=0.26]\n",
      "   test: 100%|██████████| 79/79 [00:02<00:00, 28.94it/s, test_acc=90.1, test_loss=0.272]\n"
     ]
    },
    {
     "name": "stdout",
     "output_type": "stream",
     "text": [
      "EPOCH 4/80 :\n"
     ]
    },
    {
     "name": "stderr",
     "output_type": "stream",
     "text": [
      "  train: 100%|██████████| 469/469 [00:18<00:00, 25.90it/s, train_acc=91.4, train_loss=0.232]\n",
      "   test: 100%|██████████| 79/79 [00:03<00:00, 21.15it/s, test_acc=89.6, test_loss=0.282]\n"
     ]
    },
    {
     "name": "stdout",
     "output_type": "stream",
     "text": [
      "EPOCH 5/80 :\n"
     ]
    },
    {
     "name": "stderr",
     "output_type": "stream",
     "text": [
      "  train: 100%|██████████| 469/469 [00:17<00:00, 26.40it/s, train_acc=92.1, train_loss=0.212]\n",
      "   test: 100%|██████████| 79/79 [00:02<00:00, 28.62it/s, test_acc=90.7, test_loss=0.255]\n"
     ]
    },
    {
     "name": "stdout",
     "output_type": "stream",
     "text": [
      "EPOCH 6/80 :\n"
     ]
    },
    {
     "name": "stderr",
     "output_type": "stream",
     "text": [
      "  train: 100%|██████████| 469/469 [00:18<00:00, 25.31it/s, train_acc=92.7, train_loss=0.193]\n",
      "   test: 100%|██████████| 79/79 [00:02<00:00, 27.61it/s, test_acc=90.9, test_loss=0.258]\n"
     ]
    },
    {
     "name": "stdout",
     "output_type": "stream",
     "text": [
      "EPOCH 7/80 :\n"
     ]
    },
    {
     "name": "stderr",
     "output_type": "stream",
     "text": [
      "  train: 100%|██████████| 469/469 [00:17<00:00, 26.83it/s, train_acc=93.5, train_loss=0.174]\n",
      "   test: 100%|██████████| 79/79 [00:03<00:00, 23.35it/s, test_acc=91.2, test_loss=0.248]\n"
     ]
    },
    {
     "name": "stdout",
     "output_type": "stream",
     "text": [
      "EPOCH 8/80 :\n"
     ]
    },
    {
     "name": "stderr",
     "output_type": "stream",
     "text": [
      "  train: 100%|██████████| 469/469 [00:18<00:00, 25.48it/s, train_acc=94.3, train_loss=0.155]\n",
      "   test: 100%|██████████| 79/79 [00:02<00:00, 28.21it/s, test_acc=91.1, test_loss=0.255]\n"
     ]
    },
    {
     "name": "stdout",
     "output_type": "stream",
     "text": [
      "EPOCH 9/80 :\n"
     ]
    },
    {
     "name": "stderr",
     "output_type": "stream",
     "text": [
      "  train: 100%|██████████| 469/469 [00:19<00:00, 23.92it/s, train_acc=94.7, train_loss=0.141]\n",
      "   test: 100%|██████████| 79/79 [00:02<00:00, 28.80it/s, test_acc=91.1, test_loss=0.26]\n"
     ]
    },
    {
     "name": "stdout",
     "output_type": "stream",
     "text": [
      "EPOCH 10/80 :\n"
     ]
    },
    {
     "name": "stderr",
     "output_type": "stream",
     "text": [
      "  train: 100%|██████████| 469/469 [00:17<00:00, 26.60it/s, train_acc=95.1, train_loss=0.131]\n",
      "   test: 100%|██████████| 79/79 [00:03<00:00, 22.58it/s, test_acc=91, test_loss=0.263]\n"
     ]
    },
    {
     "name": "stdout",
     "output_type": "stream",
     "text": [
      "EPOCH 11/80 :\n"
     ]
    },
    {
     "name": "stderr",
     "output_type": "stream",
     "text": [
      "  train: 100%|██████████| 469/469 [00:18<00:00, 25.80it/s, train_acc=95.6, train_loss=0.117]\n",
      "   test: 100%|██████████| 79/79 [00:02<00:00, 28.43it/s, test_acc=90.8, test_loss=0.277]\n"
     ]
    },
    {
     "name": "stdout",
     "output_type": "stream",
     "text": [
      "EPOCH 12/80 :\n"
     ]
    },
    {
     "name": "stderr",
     "output_type": "stream",
     "text": [
      "  train: 100%|██████████| 469/469 [00:18<00:00, 24.91it/s, train_acc=96.1, train_loss=0.108]\n",
      "   test: 100%|██████████| 79/79 [00:02<00:00, 27.97it/s, test_acc=90.8, test_loss=0.29]\n"
     ]
    },
    {
     "name": "stdout",
     "output_type": "stream",
     "text": [
      "EPOCH 13/80 :\n"
     ]
    },
    {
     "name": "stderr",
     "output_type": "stream",
     "text": [
      "  train: 100%|██████████| 469/469 [00:17<00:00, 26.64it/s, train_acc=96.4, train_loss=0.0966]\n",
      "   test: 100%|██████████| 79/79 [00:02<00:00, 27.27it/s, test_acc=91.2, test_loss=0.304]\n"
     ]
    },
    {
     "name": "stdout",
     "output_type": "stream",
     "text": [
      "EPOCH 14/80 :\n"
     ]
    },
    {
     "name": "stderr",
     "output_type": "stream",
     "text": [
      "  train: 100%|██████████| 469/469 [00:18<00:00, 25.32it/s, train_acc=96.8, train_loss=0.0858]\n",
      "   test: 100%|██████████| 79/79 [00:02<00:00, 28.71it/s, test_acc=90.7, test_loss=0.309]\n"
     ]
    },
    {
     "name": "stdout",
     "output_type": "stream",
     "text": [
      "EPOCH 15/80 :\n"
     ]
    },
    {
     "name": "stderr",
     "output_type": "stream",
     "text": [
      "  train: 100%|██████████| 469/469 [00:17<00:00, 26.36it/s, train_acc=96.9, train_loss=0.0813]\n",
      "   test: 100%|██████████| 79/79 [00:03<00:00, 23.56it/s, test_acc=91, test_loss=0.34]\n"
     ]
    },
    {
     "name": "stdout",
     "output_type": "stream",
     "text": [
      "EPOCH 16/80 :\n"
     ]
    },
    {
     "name": "stderr",
     "output_type": "stream",
     "text": [
      "  train: 100%|██████████| 469/469 [00:17<00:00, 26.69it/s, train_acc=97.4, train_loss=0.07]\n",
      "   test: 100%|██████████| 79/79 [00:02<00:00, 28.19it/s, test_acc=91.1, test_loss=0.344]\n"
     ]
    },
    {
     "name": "stdout",
     "output_type": "stream",
     "text": [
      "EPOCH 17/80 :\n"
     ]
    },
    {
     "name": "stderr",
     "output_type": "stream",
     "text": [
      "  train: 100%|██████████| 469/469 [00:18<00:00, 25.09it/s, train_acc=97.6, train_loss=0.065]\n",
      "   test: 100%|██████████| 79/79 [00:02<00:00, 28.75it/s, test_acc=91.3, test_loss=0.331]\n"
     ]
    },
    {
     "name": "stdout",
     "output_type": "stream",
     "text": [
      "EPOCH 18/80 :\n"
     ]
    },
    {
     "name": "stderr",
     "output_type": "stream",
     "text": [
      "  train: 100%|██████████| 469/469 [00:17<00:00, 26.58it/s, train_acc=97.7, train_loss=0.0619]\n",
      "   test: 100%|██████████| 79/79 [00:03<00:00, 20.37it/s, test_acc=91.3, test_loss=0.352]\n"
     ]
    },
    {
     "name": "stdout",
     "output_type": "stream",
     "text": [
      "EPOCH 19/80 :\n"
     ]
    },
    {
     "name": "stderr",
     "output_type": "stream",
     "text": [
      "  train: 100%|██████████| 469/469 [00:17<00:00, 26.11it/s, train_acc=98.1, train_loss=0.0521]\n",
      "   test: 100%|██████████| 79/79 [00:02<00:00, 27.68it/s, test_acc=91.8, test_loss=0.348]\n"
     ]
    },
    {
     "name": "stdout",
     "output_type": "stream",
     "text": [
      "EPOCH 20/80 :\n"
     ]
    },
    {
     "name": "stderr",
     "output_type": "stream",
     "text": [
      "  train: 100%|██████████| 469/469 [00:18<00:00, 24.91it/s, train_acc=98.3, train_loss=0.0464]\n",
      "   test: 100%|██████████| 79/79 [00:02<00:00, 28.56it/s, test_acc=91.6, test_loss=0.357]\n"
     ]
    },
    {
     "name": "stdout",
     "output_type": "stream",
     "text": [
      "EPOCH 21/80 :\n"
     ]
    },
    {
     "name": "stderr",
     "output_type": "stream",
     "text": [
      "  train: 100%|██████████| 469/469 [00:17<00:00, 26.91it/s, train_acc=98.3, train_loss=0.0453]\n",
      "   test: 100%|██████████| 79/79 [00:03<00:00, 20.40it/s, test_acc=91.3, test_loss=0.38]\n"
     ]
    },
    {
     "name": "stdout",
     "output_type": "stream",
     "text": [
      "EPOCH 22/80 :\n"
     ]
    },
    {
     "name": "stderr",
     "output_type": "stream",
     "text": [
      "  train: 100%|██████████| 469/469 [00:17<00:00, 26.37it/s, train_acc=98.6, train_loss=0.0381]\n",
      "   test: 100%|██████████| 79/79 [00:02<00:00, 27.24it/s, test_acc=90.9, test_loss=0.423]\n"
     ]
    },
    {
     "name": "stdout",
     "output_type": "stream",
     "text": [
      "EPOCH 23/80 :\n"
     ]
    },
    {
     "name": "stderr",
     "output_type": "stream",
     "text": [
      "  train: 100%|██████████| 469/469 [00:18<00:00, 25.23it/s, train_acc=98.8, train_loss=0.033]\n",
      "   test: 100%|██████████| 79/79 [00:02<00:00, 28.33it/s, test_acc=91.8, test_loss=0.395]\n"
     ]
    },
    {
     "name": "stdout",
     "output_type": "stream",
     "text": [
      "EPOCH 24/80 :\n"
     ]
    },
    {
     "name": "stderr",
     "output_type": "stream",
     "text": [
      "  train: 100%|██████████| 469/469 [00:17<00:00, 26.47it/s, train_acc=98.6, train_loss=0.0382]\n",
      "   test: 100%|██████████| 79/79 [00:03<00:00, 22.11it/s, test_acc=91.7, test_loss=0.411]\n"
     ]
    },
    {
     "name": "stdout",
     "output_type": "stream",
     "text": [
      "EPOCH 25/80 :\n"
     ]
    },
    {
     "name": "stderr",
     "output_type": "stream",
     "text": [
      "  train: 100%|██████████| 469/469 [00:18<00:00, 25.96it/s, train_acc=98.8, train_loss=0.0334]\n",
      "   test: 100%|██████████| 79/79 [00:02<00:00, 29.45it/s, test_acc=91.9, test_loss=0.404]\n"
     ]
    },
    {
     "name": "stdout",
     "output_type": "stream",
     "text": [
      "EPOCH 26/80 :\n"
     ]
    },
    {
     "name": "stderr",
     "output_type": "stream",
     "text": [
      "  train: 100%|██████████| 469/469 [00:18<00:00, 25.31it/s, train_acc=98.8, train_loss=0.0321]\n",
      "   test: 100%|██████████| 79/79 [00:02<00:00, 26.98it/s, test_acc=91.6, test_loss=0.422]\n"
     ]
    },
    {
     "name": "stdout",
     "output_type": "stream",
     "text": [
      "EPOCH 27/80 :\n"
     ]
    },
    {
     "name": "stderr",
     "output_type": "stream",
     "text": [
      "  train: 100%|██████████| 469/469 [00:17<00:00, 26.38it/s, train_acc=98.8, train_loss=0.0328]\n",
      "   test: 100%|██████████| 79/79 [00:02<00:00, 27.06it/s, test_acc=91.1, test_loss=0.461]\n"
     ]
    },
    {
     "name": "stdout",
     "output_type": "stream",
     "text": [
      "EPOCH 28/80 :\n"
     ]
    },
    {
     "name": "stderr",
     "output_type": "stream",
     "text": [
      "  train: 100%|██████████| 469/469 [00:18<00:00, 25.10it/s, train_acc=99.1, train_loss=0.0248]\n",
      "   test: 100%|██████████| 79/79 [00:02<00:00, 27.60it/s, test_acc=91.7, test_loss=0.465]\n"
     ]
    },
    {
     "name": "stdout",
     "output_type": "stream",
     "text": [
      "EPOCH 29/80 :\n"
     ]
    },
    {
     "name": "stderr",
     "output_type": "stream",
     "text": [
      "  train: 100%|██████████| 469/469 [00:18<00:00, 25.65it/s, train_acc=99.3, train_loss=0.0226]\n",
      "   test: 100%|██████████| 79/79 [00:03<00:00, 24.55it/s, test_acc=91.7, test_loss=0.448]\n"
     ]
    },
    {
     "name": "stdout",
     "output_type": "stream",
     "text": [
      "EPOCH 30/80 :\n"
     ]
    },
    {
     "name": "stderr",
     "output_type": "stream",
     "text": [
      "  train: 100%|██████████| 469/469 [00:17<00:00, 26.78it/s, train_acc=99.1, train_loss=0.0262]\n",
      "   test: 100%|██████████| 79/79 [00:02<00:00, 28.16it/s, test_acc=91.5, test_loss=0.448]\n"
     ]
    },
    {
     "name": "stdout",
     "output_type": "stream",
     "text": [
      "EPOCH 31/80 :\n"
     ]
    },
    {
     "name": "stderr",
     "output_type": "stream",
     "text": [
      "  train: 100%|██████████| 469/469 [00:18<00:00, 24.81it/s, train_acc=99.3, train_loss=0.02]\n",
      "   test: 100%|██████████| 79/79 [00:02<00:00, 27.37it/s, test_acc=91.4, test_loss=0.504]\n"
     ]
    },
    {
     "name": "stdout",
     "output_type": "stream",
     "text": [
      "EPOCH 32/80 :\n"
     ]
    },
    {
     "name": "stderr",
     "output_type": "stream",
     "text": [
      "  train: 100%|██████████| 469/469 [00:17<00:00, 26.28it/s, train_acc=99.3, train_loss=0.0194]\n",
      "   test: 100%|██████████| 79/79 [00:03<00:00, 21.33it/s, test_acc=91.1, test_loss=0.539]\n"
     ]
    },
    {
     "name": "stdout",
     "output_type": "stream",
     "text": [
      "EPOCH 33/80 :\n"
     ]
    },
    {
     "name": "stderr",
     "output_type": "stream",
     "text": [
      "  train: 100%|██████████| 469/469 [00:17<00:00, 26.69it/s, train_acc=99.3, train_loss=0.0195]\n",
      "   test: 100%|██████████| 79/79 [00:02<00:00, 28.48it/s, test_acc=91.6, test_loss=0.515]\n"
     ]
    },
    {
     "name": "stdout",
     "output_type": "stream",
     "text": [
      "EPOCH 34/80 :\n"
     ]
    },
    {
     "name": "stderr",
     "output_type": "stream",
     "text": [
      "  train: 100%|██████████| 469/469 [00:18<00:00, 25.34it/s, train_acc=99.3, train_loss=0.0194]\n",
      "   test: 100%|██████████| 79/79 [00:02<00:00, 27.83it/s, test_acc=91.8, test_loss=0.516]\n"
     ]
    },
    {
     "name": "stdout",
     "output_type": "stream",
     "text": [
      "EPOCH 35/80 :\n"
     ]
    },
    {
     "name": "stderr",
     "output_type": "stream",
     "text": [
      "  train: 100%|██████████| 469/469 [00:17<00:00, 26.95it/s, train_acc=99.4, train_loss=0.0176]\n",
      "   test: 100%|██████████| 79/79 [00:03<00:00, 20.20it/s, test_acc=91.1, test_loss=0.541]\n"
     ]
    },
    {
     "name": "stdout",
     "output_type": "stream",
     "text": [
      "EPOCH 36/80 :\n"
     ]
    },
    {
     "name": "stderr",
     "output_type": "stream",
     "text": [
      "  train: 100%|██████████| 469/469 [00:17<00:00, 26.34it/s, train_acc=99.5, train_loss=0.0161]\n",
      "   test: 100%|██████████| 79/79 [00:02<00:00, 27.61it/s, test_acc=91.9, test_loss=0.521]\n"
     ]
    },
    {
     "name": "stdout",
     "output_type": "stream",
     "text": [
      "EPOCH 37/80 :\n"
     ]
    },
    {
     "name": "stderr",
     "output_type": "stream",
     "text": [
      "  train: 100%|██████████| 469/469 [00:18<00:00, 25.08it/s, train_acc=99.5, train_loss=0.0161]\n",
      "   test: 100%|██████████| 79/79 [00:02<00:00, 28.76it/s, test_acc=91.3, test_loss=0.54]\n"
     ]
    },
    {
     "name": "stdout",
     "output_type": "stream",
     "text": [
      "EPOCH 38/80 :\n"
     ]
    },
    {
     "name": "stderr",
     "output_type": "stream",
     "text": [
      "  train: 100%|██████████| 469/469 [00:17<00:00, 26.64it/s, train_acc=99.4, train_loss=0.0166]\n",
      "   test: 100%|██████████| 79/79 [00:03<00:00, 24.41it/s, test_acc=91.3, test_loss=0.566]\n"
     ]
    },
    {
     "name": "stdout",
     "output_type": "stream",
     "text": [
      "EPOCH 39/80 :\n"
     ]
    },
    {
     "name": "stderr",
     "output_type": "stream",
     "text": [
      "  train: 100%|██████████| 469/469 [00:18<00:00, 25.63it/s, train_acc=99.3, train_loss=0.0195]\n",
      "   test: 100%|██████████| 79/79 [00:02<00:00, 28.08it/s, test_acc=91.3, test_loss=0.523]\n"
     ]
    },
    {
     "name": "stdout",
     "output_type": "stream",
     "text": [
      "EPOCH 40/80 :\n"
     ]
    },
    {
     "name": "stderr",
     "output_type": "stream",
     "text": [
      "  train: 100%|██████████| 469/469 [00:18<00:00, 25.10it/s, train_acc=99.3, train_loss=0.0195]\n",
      "   test: 100%|██████████| 79/79 [00:02<00:00, 28.31it/s, test_acc=91.3, test_loss=0.537]\n"
     ]
    },
    {
     "name": "stdout",
     "output_type": "stream",
     "text": [
      "EPOCH 41/80 :\n"
     ]
    },
    {
     "name": "stderr",
     "output_type": "stream",
     "text": [
      "  train: 100%|██████████| 469/469 [00:17<00:00, 26.55it/s, train_acc=99.6, train_loss=0.0126]\n",
      "   test: 100%|██████████| 79/79 [00:03<00:00, 25.92it/s, test_acc=91.9, test_loss=0.526]\n"
     ]
    },
    {
     "name": "stdout",
     "output_type": "stream",
     "text": [
      "EPOCH 42/80 :\n"
     ]
    },
    {
     "name": "stderr",
     "output_type": "stream",
     "text": [
      "  train: 100%|██████████| 469/469 [00:18<00:00, 25.33it/s, train_acc=99.8, train_loss=0.00722]\n",
      "   test: 100%|██████████| 79/79 [00:02<00:00, 27.02it/s, test_acc=91.7, test_loss=0.579]\n"
     ]
    },
    {
     "name": "stdout",
     "output_type": "stream",
     "text": [
      "EPOCH 43/80 :\n"
     ]
    },
    {
     "name": "stderr",
     "output_type": "stream",
     "text": [
      "  train: 100%|██████████| 469/469 [00:18<00:00, 25.03it/s, train_acc=99.7, train_loss=0.00984]\n",
      "   test: 100%|██████████| 79/79 [00:03<00:00, 25.96it/s, test_acc=91.8, test_loss=0.55]\n"
     ]
    },
    {
     "name": "stdout",
     "output_type": "stream",
     "text": [
      "EPOCH 44/80 :\n"
     ]
    },
    {
     "name": "stderr",
     "output_type": "stream",
     "text": [
      "  train: 100%|██████████| 469/469 [00:17<00:00, 26.54it/s, train_acc=99.6, train_loss=0.0106]\n",
      "   test: 100%|██████████| 79/79 [00:02<00:00, 28.19it/s, test_acc=91.5, test_loss=0.581]\n"
     ]
    },
    {
     "name": "stdout",
     "output_type": "stream",
     "text": [
      "EPOCH 45/80 :\n"
     ]
    },
    {
     "name": "stderr",
     "output_type": "stream",
     "text": [
      "  train: 100%|██████████| 469/469 [00:18<00:00, 24.95it/s, train_acc=99.7, train_loss=0.0103]\n",
      "   test: 100%|██████████| 79/79 [00:02<00:00, 28.46it/s, test_acc=91.7, test_loss=0.58]\n"
     ]
    },
    {
     "name": "stdout",
     "output_type": "stream",
     "text": [
      "EPOCH 46/80 :\n"
     ]
    },
    {
     "name": "stderr",
     "output_type": "stream",
     "text": [
      "  train: 100%|██████████| 469/469 [00:17<00:00, 26.25it/s, train_acc=99.7, train_loss=0.0102]\n",
      "   test: 100%|██████████| 79/79 [00:03<00:00, 21.54it/s, test_acc=91.7, test_loss=0.606]\n"
     ]
    },
    {
     "name": "stdout",
     "output_type": "stream",
     "text": [
      "EPOCH 47/80 :\n"
     ]
    },
    {
     "name": "stderr",
     "output_type": "stream",
     "text": [
      "  train: 100%|██████████| 469/469 [00:17<00:00, 26.58it/s, train_acc=99.6, train_loss=0.012]\n",
      "   test: 100%|██████████| 79/79 [00:02<00:00, 28.69it/s, test_acc=91.9, test_loss=0.541]\n"
     ]
    },
    {
     "name": "stdout",
     "output_type": "stream",
     "text": [
      "EPOCH 48/80 :\n"
     ]
    },
    {
     "name": "stderr",
     "output_type": "stream",
     "text": [
      "  train: 100%|██████████| 469/469 [00:18<00:00, 25.66it/s, train_acc=99.4, train_loss=0.0168]\n",
      "   test: 100%|██████████| 79/79 [00:02<00:00, 28.28it/s, test_acc=91.4, test_loss=0.588]\n"
     ]
    },
    {
     "name": "stdout",
     "output_type": "stream",
     "text": [
      "EPOCH 49/80 :\n"
     ]
    },
    {
     "name": "stderr",
     "output_type": "stream",
     "text": [
      "  train: 100%|██████████| 469/469 [00:17<00:00, 27.44it/s, train_acc=99.8, train_loss=0.00739]\n",
      "   test: 100%|██████████| 79/79 [00:03<00:00, 22.57it/s, test_acc=92.1, test_loss=0.582]\n"
     ]
    },
    {
     "name": "stdout",
     "output_type": "stream",
     "text": [
      "EPOCH 50/80 :\n"
     ]
    },
    {
     "name": "stderr",
     "output_type": "stream",
     "text": [
      "  train: 100%|██████████| 469/469 [00:17<00:00, 26.16it/s, train_acc=99.7, train_loss=0.00818]\n",
      "   test: 100%|██████████| 79/79 [00:02<00:00, 28.22it/s, test_acc=91.8, test_loss=0.584]\n"
     ]
    },
    {
     "name": "stdout",
     "output_type": "stream",
     "text": [
      "EPOCH 51/80 :\n"
     ]
    },
    {
     "name": "stderr",
     "output_type": "stream",
     "text": [
      "  train: 100%|██████████| 469/469 [00:17<00:00, 26.23it/s, train_acc=99.7, train_loss=0.0106]\n",
      "   test: 100%|██████████| 79/79 [00:03<00:00, 23.24it/s, test_acc=91.2, test_loss=0.605]\n"
     ]
    },
    {
     "name": "stdout",
     "output_type": "stream",
     "text": [
      "EPOCH 52/80 :\n"
     ]
    },
    {
     "name": "stderr",
     "output_type": "stream",
     "text": [
      "  train: 100%|██████████| 469/469 [00:17<00:00, 27.21it/s, train_acc=99.9, train_loss=0.00445]\n",
      "   test: 100%|██████████| 79/79 [00:02<00:00, 28.14it/s, test_acc=92, test_loss=0.596]\n"
     ]
    },
    {
     "name": "stdout",
     "output_type": "stream",
     "text": [
      "EPOCH 53/80 :\n"
     ]
    },
    {
     "name": "stderr",
     "output_type": "stream",
     "text": [
      "  train: 100%|██████████| 469/469 [00:18<00:00, 24.87it/s, train_acc=99.8, train_loss=0.00555]\n",
      "   test: 100%|██████████| 79/79 [00:02<00:00, 27.56it/s, test_acc=92.1, test_loss=0.64]\n"
     ]
    },
    {
     "name": "stdout",
     "output_type": "stream",
     "text": [
      "EPOCH 54/80 :\n"
     ]
    },
    {
     "name": "stderr",
     "output_type": "stream",
     "text": [
      "  train: 100%|██████████| 469/469 [00:18<00:00, 25.96it/s, train_acc=99.8, train_loss=0.00586]\n",
      "   test: 100%|██████████| 79/79 [00:04<00:00, 19.24it/s, test_acc=91.9, test_loss=0.621]\n"
     ]
    },
    {
     "name": "stdout",
     "output_type": "stream",
     "text": [
      "EPOCH 55/80 :\n"
     ]
    },
    {
     "name": "stderr",
     "output_type": "stream",
     "text": [
      "  train: 100%|██████████| 469/469 [00:18<00:00, 25.53it/s, train_acc=99.9, train_loss=0.00372]\n",
      "   test: 100%|██████████| 79/79 [00:02<00:00, 26.71it/s, test_acc=91.8, test_loss=0.657]\n"
     ]
    },
    {
     "name": "stdout",
     "output_type": "stream",
     "text": [
      "EPOCH 56/80 :\n"
     ]
    },
    {
     "name": "stderr",
     "output_type": "stream",
     "text": [
      "  train: 100%|██████████| 469/469 [00:19<00:00, 24.67it/s, train_acc=99.8, train_loss=0.00551]\n",
      "   test: 100%|██████████| 79/79 [00:02<00:00, 27.66it/s, test_acc=91.7, test_loss=0.62]\n"
     ]
    },
    {
     "name": "stdout",
     "output_type": "stream",
     "text": [
      "EPOCH 57/80 :\n"
     ]
    },
    {
     "name": "stderr",
     "output_type": "stream",
     "text": [
      "  train: 100%|██████████| 469/469 [00:17<00:00, 26.79it/s, train_acc=99.8, train_loss=0.00596]\n",
      "   test: 100%|██████████| 79/79 [00:03<00:00, 19.89it/s, test_acc=91.4, test_loss=0.657]\n"
     ]
    },
    {
     "name": "stdout",
     "output_type": "stream",
     "text": [
      "EPOCH 58/80 :\n"
     ]
    },
    {
     "name": "stderr",
     "output_type": "stream",
     "text": [
      "  train: 100%|██████████| 469/469 [00:17<00:00, 26.18it/s, train_acc=99.8, train_loss=0.00726]\n",
      "   test: 100%|██████████| 79/79 [00:02<00:00, 27.83it/s, test_acc=91.8, test_loss=0.686]\n"
     ]
    },
    {
     "name": "stdout",
     "output_type": "stream",
     "text": [
      "EPOCH 59/80 :\n"
     ]
    },
    {
     "name": "stderr",
     "output_type": "stream",
     "text": [
      "  train: 100%|██████████| 469/469 [00:18<00:00, 24.89it/s, train_acc=99.7, train_loss=0.0104]\n",
      "   test: 100%|██████████| 79/79 [00:02<00:00, 28.49it/s, test_acc=91.9, test_loss=0.611]\n"
     ]
    },
    {
     "name": "stdout",
     "output_type": "stream",
     "text": [
      "EPOCH 60/80 :\n"
     ]
    },
    {
     "name": "stderr",
     "output_type": "stream",
     "text": [
      "  train: 100%|██████████| 469/469 [00:17<00:00, 26.61it/s, train_acc=99.6, train_loss=0.0103]\n",
      "   test: 100%|██████████| 79/79 [00:03<00:00, 23.15it/s, test_acc=91.3, test_loss=0.633]\n"
     ]
    },
    {
     "name": "stdout",
     "output_type": "stream",
     "text": [
      "EPOCH 61/80 :\n"
     ]
    },
    {
     "name": "stderr",
     "output_type": "stream",
     "text": [
      "  train: 100%|██████████| 469/469 [00:17<00:00, 26.09it/s, train_acc=99.6, train_loss=0.012]\n",
      "   test: 100%|██████████| 79/79 [00:02<00:00, 27.67it/s, test_acc=91.5, test_loss=0.634]\n"
     ]
    },
    {
     "name": "stdout",
     "output_type": "stream",
     "text": [
      "EPOCH 62/80 :\n"
     ]
    },
    {
     "name": "stderr",
     "output_type": "stream",
     "text": [
      "  train: 100%|██████████| 469/469 [00:18<00:00, 25.71it/s, train_acc=99.8, train_loss=0.00722]\n",
      "   test: 100%|██████████| 79/79 [00:03<00:00, 25.45it/s, test_acc=91.7, test_loss=0.635]\n"
     ]
    },
    {
     "name": "stdout",
     "output_type": "stream",
     "text": [
      "EPOCH 63/80 :\n"
     ]
    },
    {
     "name": "stderr",
     "output_type": "stream",
     "text": [
      "  train: 100%|██████████| 469/469 [00:17<00:00, 26.81it/s, train_acc=99.8, train_loss=0.00603]\n",
      "   test: 100%|██████████| 79/79 [00:02<00:00, 28.02it/s, test_acc=91.8, test_loss=0.661]\n"
     ]
    },
    {
     "name": "stdout",
     "output_type": "stream",
     "text": [
      "EPOCH 64/80 :\n"
     ]
    },
    {
     "name": "stderr",
     "output_type": "stream",
     "text": [
      "  train: 100%|██████████| 469/469 [00:18<00:00, 25.33it/s, train_acc=99.9, train_loss=0.00443]\n",
      "   test: 100%|██████████| 79/79 [00:02<00:00, 28.18it/s, test_acc=91.9, test_loss=0.634]\n"
     ]
    },
    {
     "name": "stdout",
     "output_type": "stream",
     "text": [
      "EPOCH 65/80 :\n"
     ]
    },
    {
     "name": "stderr",
     "output_type": "stream",
     "text": [
      "  train: 100%|██████████| 469/469 [00:17<00:00, 26.73it/s, train_acc=100, train_loss=0.00176]\n",
      "   test: 100%|██████████| 79/79 [00:03<00:00, 20.39it/s, test_acc=91.9, test_loss=0.668]\n"
     ]
    },
    {
     "name": "stdout",
     "output_type": "stream",
     "text": [
      "EPOCH 66/80 :\n"
     ]
    },
    {
     "name": "stderr",
     "output_type": "stream",
     "text": [
      "  train: 100%|██████████| 469/469 [00:17<00:00, 26.48it/s, train_acc=100, train_loss=0.000993]\n",
      "   test: 100%|██████████| 79/79 [00:02<00:00, 28.94it/s, test_acc=92, test_loss=0.651]\n"
     ]
    },
    {
     "name": "stdout",
     "output_type": "stream",
     "text": [
      "EPOCH 67/80 :\n"
     ]
    },
    {
     "name": "stderr",
     "output_type": "stream",
     "text": [
      "  train: 100%|██████████| 469/469 [00:18<00:00, 25.27it/s, train_acc=100, train_loss=0.000877]\n",
      "   test: 100%|██████████| 79/79 [00:02<00:00, 27.99it/s, test_acc=92.2, test_loss=0.674]\n"
     ]
    },
    {
     "name": "stdout",
     "output_type": "stream",
     "text": [
      "EPOCH 68/80 :\n"
     ]
    },
    {
     "name": "stderr",
     "output_type": "stream",
     "text": [
      "  train: 100%|██████████| 469/469 [00:17<00:00, 26.67it/s, train_acc=100, train_loss=0.000433]\n",
      "   test: 100%|██████████| 79/79 [00:03<00:00, 23.88it/s, test_acc=92.5, test_loss=0.666]\n"
     ]
    },
    {
     "name": "stdout",
     "output_type": "stream",
     "text": [
      "EPOCH 69/80 :\n"
     ]
    },
    {
     "name": "stderr",
     "output_type": "stream",
     "text": [
      "  train: 100%|██████████| 469/469 [00:18<00:00, 25.95it/s, train_acc=100, train_loss=0.000102]\n",
      "   test: 100%|██████████| 79/79 [00:02<00:00, 28.54it/s, test_acc=92.4, test_loss=0.658]\n"
     ]
    },
    {
     "name": "stdout",
     "output_type": "stream",
     "text": [
      "EPOCH 70/80 :\n"
     ]
    },
    {
     "name": "stderr",
     "output_type": "stream",
     "text": [
      "  train: 100%|██████████| 469/469 [00:18<00:00, 25.31it/s, train_acc=100, train_loss=6.48e-5]\n",
      "   test: 100%|██████████| 79/79 [00:03<00:00, 25.19it/s, test_acc=92.4, test_loss=0.677]\n"
     ]
    },
    {
     "name": "stdout",
     "output_type": "stream",
     "text": [
      "EPOCH 71/80 :\n"
     ]
    },
    {
     "name": "stderr",
     "output_type": "stream",
     "text": [
      "  train: 100%|██████████| 469/469 [00:17<00:00, 26.62it/s, train_acc=100, train_loss=4.86e-5]\n",
      "   test: 100%|██████████| 79/79 [00:02<00:00, 28.29it/s, test_acc=92.2, test_loss=0.671]\n"
     ]
    },
    {
     "name": "stdout",
     "output_type": "stream",
     "text": [
      "EPOCH 72/80 :\n"
     ]
    },
    {
     "name": "stderr",
     "output_type": "stream",
     "text": [
      "  train: 100%|██████████| 469/469 [00:18<00:00, 25.19it/s, train_acc=100, train_loss=3.85e-5]\n",
      "   test: 100%|██████████| 79/79 [00:02<00:00, 27.66it/s, test_acc=92.4, test_loss=0.695]\n"
     ]
    },
    {
     "name": "stdout",
     "output_type": "stream",
     "text": [
      "EPOCH 73/80 :\n"
     ]
    },
    {
     "name": "stderr",
     "output_type": "stream",
     "text": [
      "  train: 100%|██████████| 469/469 [00:17<00:00, 26.44it/s, train_acc=100, train_loss=3.25e-5]\n",
      "   test: 100%|██████████| 79/79 [00:03<00:00, 20.38it/s, test_acc=92.6, test_loss=0.662]\n"
     ]
    },
    {
     "name": "stdout",
     "output_type": "stream",
     "text": [
      "EPOCH 74/80 :\n"
     ]
    },
    {
     "name": "stderr",
     "output_type": "stream",
     "text": [
      "  train: 100%|██████████| 469/469 [00:17<00:00, 26.69it/s, train_acc=100, train_loss=6.5e-5]\n",
      "   test: 100%|██████████| 79/79 [00:02<00:00, 28.36it/s, test_acc=92.4, test_loss=0.663]\n"
     ]
    },
    {
     "name": "stdout",
     "output_type": "stream",
     "text": [
      "EPOCH 75/80 :\n"
     ]
    },
    {
     "name": "stderr",
     "output_type": "stream",
     "text": [
      "  train: 100%|██████████| 469/469 [00:18<00:00, 25.07it/s, train_acc=100, train_loss=0.000334]\n",
      "   test: 100%|██████████| 79/79 [00:02<00:00, 28.04it/s, test_acc=92, test_loss=0.709]\n"
     ]
    },
    {
     "name": "stdout",
     "output_type": "stream",
     "text": [
      "EPOCH 76/80 :\n"
     ]
    },
    {
     "name": "stderr",
     "output_type": "stream",
     "text": [
      "  train: 100%|██████████| 469/469 [00:17<00:00, 26.78it/s, train_acc=100, train_loss=0.000708]\n",
      "   test: 100%|██████████| 79/79 [00:03<00:00, 21.46it/s, test_acc=92.1, test_loss=0.674]\n"
     ]
    },
    {
     "name": "stdout",
     "output_type": "stream",
     "text": [
      "EPOCH 77/80 :\n"
     ]
    },
    {
     "name": "stderr",
     "output_type": "stream",
     "text": [
      "  train: 100%|██████████| 469/469 [00:17<00:00, 26.49it/s, train_acc=100, train_loss=0.000628]\n",
      "   test: 100%|██████████| 79/79 [00:02<00:00, 27.57it/s, test_acc=92.4, test_loss=0.675]\n"
     ]
    },
    {
     "name": "stdout",
     "output_type": "stream",
     "text": [
      "EPOCH 78/80 :\n"
     ]
    },
    {
     "name": "stderr",
     "output_type": "stream",
     "text": [
      "  train: 100%|██████████| 469/469 [00:18<00:00, 25.25it/s, train_acc=100, train_loss=0.000547]\n",
      "   test: 100%|██████████| 79/79 [00:02<00:00, 27.33it/s, test_acc=92.3, test_loss=0.694]\n"
     ]
    },
    {
     "name": "stdout",
     "output_type": "stream",
     "text": [
      "EPOCH 79/80 :\n"
     ]
    },
    {
     "name": "stderr",
     "output_type": "stream",
     "text": [
      "  train: 100%|██████████| 469/469 [00:17<00:00, 26.52it/s, train_acc=100, train_loss=0.000424]\n",
      "   test: 100%|██████████| 79/79 [00:02<00:00, 28.14it/s, test_acc=92.3, test_loss=0.709]\n"
     ]
    },
    {
     "name": "stdout",
     "output_type": "stream",
     "text": [
      "EPOCH 80/80 :\n"
     ]
    },
    {
     "name": "stderr",
     "output_type": "stream",
     "text": [
      "  train: 100%|██████████| 469/469 [00:18<00:00, 25.15it/s, train_acc=100, train_loss=0.00149]\n",
      "   test: 100%|██████████| 79/79 [00:02<00:00, 28.05it/s, test_acc=92.3, test_loss=0.717]"
     ]
    },
    {
     "name": "stdout",
     "output_type": "stream",
     "text": [
      "\n",
      "\n",
      "Train time: 1694.76648 seconds\n"
     ]
    },
    {
     "name": "stderr",
     "output_type": "stream",
     "text": [
      "\n"
     ]
    }
   ],
   "source": [
    "train_loss2, test_loss2, train_acc2, test_acc2 = fit(\n",
    "    model2, train_dataloader_FashionMNIST, test_dataloader_FashionMNIST, optimizer2, 80)"
   ]
  },
  {
   "cell_type": "code",
   "execution_count": null,
   "metadata": {
    "id": "U7FtrCT41lHC"
   },
   "outputs": [],
   "source": [
    "train_loss5, test_loss5, train_acc5, test_acc5 = fit(\n",
    "    model5, train_dataloader_FashionMNIST, test_dataloader_FashionMNIST, optimizer5, 80)"
   ]
  },
  {
   "cell_type": "code",
   "execution_count": null,
   "metadata": {
    "id": "if_chL0Vek5d"
   },
   "outputs": [],
   "source": [
    "train_loss8, test_loss8, train_acc8, test_acc8 = fit(\n",
    "    model8, train_dataloader_FashionMNIST, test_dataloader_FashionMNIST, optimizer8, 80)"
   ]
  },
  {
   "cell_type": "markdown",
   "metadata": {
    "id": "B33KFFQC97bc"
   },
   "source": [
    "### Results for FashionMNIST dataset"
   ]
  },
  {
   "cell_type": "code",
   "execution_count": 55,
   "metadata": {
    "colab": {
     "base_uri": "https://localhost:8080/",
     "height": 953
    },
    "id": "EfqhZL6UmjOK",
    "outputId": "85857c14-b5b5-4d76-dd31-8ed188906324"
   },
   "outputs": [
    {
     "data": {
      "image/png": "[encoded data removed]",
      "text/plain": [
       "<Figure size 1300x1000 with 4 Axes>"
      ]
     },
     "metadata": {},
     "output_type": "display_data"
    }
   ],
   "source": [
    "accloss_plots(train_loss2, test_loss2, train_acc2, test_acc2,\n",
    "                  train_loss5, test_loss5, train_acc5, test_acc5,\n",
    "                  train_loss8, test_loss8, train_acc8, test_acc8)"
   ]
  },
  {
   "cell_type": "markdown",
   "metadata": {
    "id": "azayz9m8AW98"
   },
   "source": [
    "### Fit for CIFAR10 dataset"
   ]
  },
  {
   "cell_type": "code",
   "execution_count": 56,
   "metadata": {
    "colab": {
     "base_uri": "https://localhost:8080/"
    },
    "id": "N_90Rx_1s-N_",
    "outputId": "4e0c28a2-8198-4226-82e0-8abf322fd666"
   },
   "outputs": [
    {
     "name": "stdout",
     "output_type": "stream",
     "text": [
      "EPOCH 1/100 :\n"
     ]
    },
    {
     "name": "stderr",
     "output_type": "stream",
     "text": [
      "  train: 100%|██████████| 391/391 [00:17<00:00, 22.75it/s, train_acc=47.5, train_loss=1.44]\n",
      "   test: 100%|██████████| 79/79 [00:03<00:00, 24.06it/s, test_acc=59.7, test_loss=1.13]\n"
     ]
    },
    {
     "name": "stdout",
     "output_type": "stream",
     "text": [
      "EPOCH 2/100 :\n"
     ]
    },
    {
     "name": "stderr",
     "output_type": "stream",
     "text": [
      "  train: 100%|██████████| 391/391 [00:18<00:00, 21.34it/s, train_acc=64.3, train_loss=1.01]\n",
      "   test: 100%|██████████| 79/79 [00:03<00:00, 23.64it/s, test_acc=66.7, test_loss=0.949]\n"
     ]
    },
    {
     "name": "stdout",
     "output_type": "stream",
     "text": [
      "EPOCH 3/100 :\n"
     ]
    },
    {
     "name": "stderr",
     "output_type": "stream",
     "text": [
      "  train: 100%|██████████| 391/391 [00:17<00:00, 22.81it/s, train_acc=71.2, train_loss=0.827]\n",
      "   test: 100%|██████████| 79/79 [00:04<00:00, 18.01it/s, test_acc=70.7, test_loss=0.844]\n"
     ]
    },
    {
     "name": "stdout",
     "output_type": "stream",
     "text": [
      "EPOCH 4/100 :\n"
     ]
    },
    {
     "name": "stderr",
     "output_type": "stream",
     "text": [
      "  train: 100%|██████████| 391/391 [00:18<00:00, 21.37it/s, train_acc=75.6, train_loss=0.699]\n",
      "   test: 100%|██████████| 79/79 [00:03<00:00, 24.73it/s, test_acc=72, test_loss=0.817]\n"
     ]
    },
    {
     "name": "stdout",
     "output_type": "stream",
     "text": [
      "EPOCH 5/100 :\n"
     ]
    },
    {
     "name": "stderr",
     "output_type": "stream",
     "text": [
      "  train: 100%|██████████| 391/391 [00:18<00:00, 21.47it/s, train_acc=79.2, train_loss=0.598]\n",
      "   test: 100%|██████████| 79/79 [00:03<00:00, 23.92it/s, test_acc=73.4, test_loss=0.787]\n"
     ]
    },
    {
     "name": "stdout",
     "output_type": "stream",
     "text": [
      "EPOCH 6/100 :\n"
     ]
    },
    {
     "name": "stderr",
     "output_type": "stream",
     "text": [
      "  train: 100%|██████████| 391/391 [00:17<00:00, 22.56it/s, train_acc=82.5, train_loss=0.51]\n",
      "   test: 100%|██████████| 79/79 [00:04<00:00, 18.14it/s, test_acc=74.6, test_loss=0.781]\n"
     ]
    },
    {
     "name": "stdout",
     "output_type": "stream",
     "text": [
      "EPOCH 7/100 :\n"
     ]
    },
    {
     "name": "stderr",
     "output_type": "stream",
     "text": [
      "  train: 100%|██████████| 391/391 [00:17<00:00, 22.49it/s, train_acc=85.1, train_loss=0.437]\n",
      "   test: 100%|██████████| 79/79 [00:03<00:00, 24.84it/s, test_acc=75.3, test_loss=0.754]\n"
     ]
    },
    {
     "name": "stdout",
     "output_type": "stream",
     "text": [
      "EPOCH 8/100 :\n"
     ]
    },
    {
     "name": "stderr",
     "output_type": "stream",
     "text": [
      "  train: 100%|██████████| 391/391 [00:17<00:00, 21.98it/s, train_acc=87.5, train_loss=0.366]\n",
      "   test: 100%|██████████| 79/79 [00:03<00:00, 23.03it/s, test_acc=74.1, test_loss=0.827]\n"
     ]
    },
    {
     "name": "stdout",
     "output_type": "stream",
     "text": [
      "EPOCH 9/100 :\n"
     ]
    },
    {
     "name": "stderr",
     "output_type": "stream",
     "text": [
      "  train: 100%|██████████| 391/391 [00:17<00:00, 22.73it/s, train_acc=89.4, train_loss=0.313]\n",
      "   test: 100%|██████████| 79/79 [00:03<00:00, 23.31it/s, test_acc=73.3, test_loss=0.935]\n"
     ]
    },
    {
     "name": "stdout",
     "output_type": "stream",
     "text": [
      "EPOCH 10/100 :\n"
     ]
    },
    {
     "name": "stderr",
     "output_type": "stream",
     "text": [
      "  train: 100%|██████████| 391/391 [00:18<00:00, 21.48it/s, train_acc=91.3, train_loss=0.261]\n",
      "   test: 100%|██████████| 79/79 [00:03<00:00, 23.82it/s, test_acc=74.9, test_loss=0.898]\n"
     ]
    },
    {
     "name": "stdout",
     "output_type": "stream",
     "text": [
      "EPOCH 11/100 :\n"
     ]
    },
    {
     "name": "stderr",
     "output_type": "stream",
     "text": [
      "  train: 100%|██████████| 391/391 [00:17<00:00, 22.40it/s, train_acc=92.9, train_loss=0.213]\n",
      "   test: 100%|██████████| 79/79 [00:04<00:00, 19.67it/s, test_acc=74.9, test_loss=0.996]\n"
     ]
    },
    {
     "name": "stdout",
     "output_type": "stream",
     "text": [
      "EPOCH 12/100 :\n"
     ]
    },
    {
     "name": "stderr",
     "output_type": "stream",
     "text": [
      "  train: 100%|██████████| 391/391 [00:17<00:00, 22.53it/s, train_acc=93.9, train_loss=0.182]\n",
      "   test: 100%|██████████| 79/79 [00:03<00:00, 23.96it/s, test_acc=75.1, test_loss=1.03]\n"
     ]
    },
    {
     "name": "stdout",
     "output_type": "stream",
     "text": [
      "EPOCH 13/100 :\n"
     ]
    },
    {
     "name": "stderr",
     "output_type": "stream",
     "text": [
      "  train: 100%|██████████| 391/391 [00:18<00:00, 21.30it/s, train_acc=95.1, train_loss=0.146]\n",
      "   test: 100%|██████████| 79/79 [00:03<00:00, 23.91it/s, test_acc=75.2, test_loss=1.03]\n"
     ]
    },
    {
     "name": "stdout",
     "output_type": "stream",
     "text": [
      "EPOCH 14/100 :\n"
     ]
    },
    {
     "name": "stderr",
     "output_type": "stream",
     "text": [
      "  train: 100%|██████████| 391/391 [00:17<00:00, 22.71it/s, train_acc=95.7, train_loss=0.132]\n",
      "   test: 100%|██████████| 79/79 [00:04<00:00, 17.70it/s, test_acc=75.7, test_loss=1.14]\n"
     ]
    },
    {
     "name": "stdout",
     "output_type": "stream",
     "text": [
      "EPOCH 15/100 :\n"
     ]
    },
    {
     "name": "stderr",
     "output_type": "stream",
     "text": [
      "  train: 100%|██████████| 391/391 [00:17<00:00, 22.60it/s, train_acc=95.9, train_loss=0.124]\n",
      "   test: 100%|██████████| 79/79 [00:03<00:00, 23.53it/s, test_acc=73.8, test_loss=1.18]\n"
     ]
    },
    {
     "name": "stdout",
     "output_type": "stream",
     "text": [
      "EPOCH 16/100 :\n"
     ]
    },
    {
     "name": "stderr",
     "output_type": "stream",
     "text": [
      "  train: 100%|██████████| 391/391 [00:18<00:00, 20.92it/s, train_acc=96.6, train_loss=0.102]\n",
      "   test: 100%|██████████| 79/79 [00:03<00:00, 23.29it/s, test_acc=75.6, test_loss=1.17]\n"
     ]
    },
    {
     "name": "stdout",
     "output_type": "stream",
     "text": [
      "EPOCH 17/100 :\n"
     ]
    },
    {
     "name": "stderr",
     "output_type": "stream",
     "text": [
      "  train: 100%|██████████| 391/391 [00:17<00:00, 22.63it/s, train_acc=97.2, train_loss=0.0836]\n",
      "   test: 100%|██████████| 79/79 [00:04<00:00, 19.26it/s, test_acc=75.5, test_loss=1.3]\n"
     ]
    },
    {
     "name": "stdout",
     "output_type": "stream",
     "text": [
      "EPOCH 18/100 :\n"
     ]
    },
    {
     "name": "stderr",
     "output_type": "stream",
     "text": [
      "  train: 100%|██████████| 391/391 [00:17<00:00, 22.52it/s, train_acc=97.2, train_loss=0.085]\n",
      "   test: 100%|██████████| 79/79 [00:03<00:00, 23.90it/s, test_acc=74, test_loss=1.4]\n"
     ]
    },
    {
     "name": "stdout",
     "output_type": "stream",
     "text": [
      "EPOCH 19/100 :\n"
     ]
    },
    {
     "name": "stderr",
     "output_type": "stream",
     "text": [
      "  train: 100%|██████████| 391/391 [00:17<00:00, 22.02it/s, train_acc=97.3, train_loss=0.0789]\n",
      "   test: 100%|██████████| 79/79 [00:03<00:00, 22.36it/s, test_acc=75.6, test_loss=1.3]\n"
     ]
    },
    {
     "name": "stdout",
     "output_type": "stream",
     "text": [
      "EPOCH 20/100 :\n"
     ]
    },
    {
     "name": "stderr",
     "output_type": "stream",
     "text": [
      "  train: 100%|██████████| 391/391 [00:16<00:00, 23.22it/s, train_acc=97.7, train_loss=0.0696]\n",
      "   test: 100%|██████████| 79/79 [00:03<00:00, 24.96it/s, test_acc=75, test_loss=1.36]\n"
     ]
    },
    {
     "name": "stdout",
     "output_type": "stream",
     "text": [
      "EPOCH 21/100 :\n"
     ]
    },
    {
     "name": "stderr",
     "output_type": "stream",
     "text": [
      "  train: 100%|██████████| 391/391 [00:17<00:00, 21.79it/s, train_acc=97.8, train_loss=0.0647]\n",
      "   test: 100%|██████████| 79/79 [00:03<00:00, 24.17it/s, test_acc=75.2, test_loss=1.4]\n"
     ]
    },
    {
     "name": "stdout",
     "output_type": "stream",
     "text": [
      "EPOCH 22/100 :\n"
     ]
    },
    {
     "name": "stderr",
     "output_type": "stream",
     "text": [
      "  train: 100%|██████████| 391/391 [00:16<00:00, 23.30it/s, train_acc=98, train_loss=0.0611]\n",
      "   test: 100%|██████████| 79/79 [00:04<00:00, 18.10it/s, test_acc=75.7, test_loss=1.45]\n"
     ]
    },
    {
     "name": "stdout",
     "output_type": "stream",
     "text": [
      "EPOCH 23/100 :\n"
     ]
    },
    {
     "name": "stderr",
     "output_type": "stream",
     "text": [
      "  train: 100%|██████████| 391/391 [00:16<00:00, 23.19it/s, train_acc=98.2, train_loss=0.0544]\n",
      "   test: 100%|██████████| 79/79 [00:03<00:00, 24.49it/s, test_acc=75.2, test_loss=1.51]\n"
     ]
    },
    {
     "name": "stdout",
     "output_type": "stream",
     "text": [
      "EPOCH 24/100 :\n"
     ]
    },
    {
     "name": "stderr",
     "output_type": "stream",
     "text": [
      "  train: 100%|██████████| 391/391 [00:17<00:00, 21.99it/s, train_acc=98.5, train_loss=0.0468]\n",
      "   test: 100%|██████████| 79/79 [00:03<00:00, 23.12it/s, test_acc=75.4, test_loss=1.54]\n"
     ]
    },
    {
     "name": "stdout",
     "output_type": "stream",
     "text": [
      "EPOCH 25/100 :\n"
     ]
    },
    {
     "name": "stderr",
     "output_type": "stream",
     "text": [
      "  train: 100%|██████████| 391/391 [00:16<00:00, 23.06it/s, train_acc=98.7, train_loss=0.0425]\n",
      "   test: 100%|██████████| 79/79 [00:03<00:00, 23.38it/s, test_acc=75.9, test_loss=1.48]\n"
     ]
    },
    {
     "name": "stdout",
     "output_type": "stream",
     "text": [
      "EPOCH 26/100 :\n"
     ]
    },
    {
     "name": "stderr",
     "output_type": "stream",
     "text": [
      "  train: 100%|██████████| 391/391 [00:18<00:00, 21.00it/s, train_acc=99, train_loss=0.0299]\n",
      "   test: 100%|██████████| 79/79 [00:03<00:00, 22.78it/s, test_acc=76.2, test_loss=1.61]\n"
     ]
    },
    {
     "name": "stdout",
     "output_type": "stream",
     "text": [
      "EPOCH 27/100 :\n"
     ]
    },
    {
     "name": "stderr",
     "output_type": "stream",
     "text": [
      "  train: 100%|██████████| 391/391 [00:19<00:00, 20.53it/s, train_acc=98.7, train_loss=0.0408]\n",
      "   test: 100%|██████████| 79/79 [00:03<00:00, 23.88it/s, test_acc=75.4, test_loss=1.51]\n"
     ]
    },
    {
     "name": "stdout",
     "output_type": "stream",
     "text": [
      "EPOCH 28/100 :\n"
     ]
    },
    {
     "name": "stderr",
     "output_type": "stream",
     "text": [
      "  train: 100%|██████████| 391/391 [00:18<00:00, 21.51it/s, train_acc=98.8, train_loss=0.0346]\n",
      "   test: 100%|██████████| 79/79 [00:04<00:00, 18.85it/s, test_acc=75.7, test_loss=1.61]\n"
     ]
    },
    {
     "name": "stdout",
     "output_type": "stream",
     "text": [
      "EPOCH 29/100 :\n"
     ]
    },
    {
     "name": "stderr",
     "output_type": "stream",
     "text": [
      "  train: 100%|██████████| 391/391 [00:18<00:00, 20.99it/s, train_acc=98.9, train_loss=0.0351]\n",
      "   test: 100%|██████████| 79/79 [00:03<00:00, 21.22it/s, test_acc=74.9, test_loss=1.62]\n"
     ]
    },
    {
     "name": "stdout",
     "output_type": "stream",
     "text": [
      "EPOCH 30/100 :\n"
     ]
    },
    {
     "name": "stderr",
     "output_type": "stream",
     "text": [
      "  train: 100%|██████████| 391/391 [00:18<00:00, 21.10it/s, train_acc=98.7, train_loss=0.0383]\n",
      "   test: 100%|██████████| 79/79 [00:03<00:00, 23.86it/s, test_acc=75.9, test_loss=1.62]\n"
     ]
    },
    {
     "name": "stdout",
     "output_type": "stream",
     "text": [
      "EPOCH 31/100 :\n"
     ]
    },
    {
     "name": "stderr",
     "output_type": "stream",
     "text": [
      "  train: 100%|██████████| 391/391 [00:18<00:00, 21.35it/s, train_acc=98.9, train_loss=0.0339]\n",
      "   test: 100%|██████████| 79/79 [00:04<00:00, 17.69it/s, test_acc=76.2, test_loss=1.63]\n"
     ]
    },
    {
     "name": "stdout",
     "output_type": "stream",
     "text": [
      "EPOCH 32/100 :\n"
     ]
    },
    {
     "name": "stderr",
     "output_type": "stream",
     "text": [
      "  train: 100%|██████████| 391/391 [00:17<00:00, 22.47it/s, train_acc=99, train_loss=0.0323]\n",
      "   test: 100%|██████████| 79/79 [00:03<00:00, 24.04it/s, test_acc=75.5, test_loss=1.71]\n"
     ]
    },
    {
     "name": "stdout",
     "output_type": "stream",
     "text": [
      "EPOCH 33/100 :\n"
     ]
    },
    {
     "name": "stderr",
     "output_type": "stream",
     "text": [
      "  train: 100%|██████████| 391/391 [00:20<00:00, 19.05it/s, train_acc=99.1, train_loss=0.0291]\n",
      "   test: 100%|██████████| 79/79 [00:03<00:00, 23.78it/s, test_acc=75.9, test_loss=1.66]\n"
     ]
    },
    {
     "name": "stdout",
     "output_type": "stream",
     "text": [
      "EPOCH 34/100 :\n"
     ]
    },
    {
     "name": "stderr",
     "output_type": "stream",
     "text": [
      "  train: 100%|██████████| 391/391 [00:17<00:00, 21.86it/s, train_acc=99.2, train_loss=0.0244]\n",
      "   test: 100%|██████████| 79/79 [00:03<00:00, 21.76it/s, test_acc=75.7, test_loss=1.64]\n"
     ]
    },
    {
     "name": "stdout",
     "output_type": "stream",
     "text": [
      "EPOCH 35/100 :\n"
     ]
    },
    {
     "name": "stderr",
     "output_type": "stream",
     "text": [
      "  train: 100%|██████████| 391/391 [00:17<00:00, 22.70it/s, train_acc=99.4, train_loss=0.0188]\n",
      "   test: 100%|██████████| 79/79 [00:03<00:00, 23.92it/s, test_acc=76.8, test_loss=1.71]\n"
     ]
    },
    {
     "name": "stdout",
     "output_type": "stream",
     "text": [
      "EPOCH 36/100 :\n"
     ]
    },
    {
     "name": "stderr",
     "output_type": "stream",
     "text": [
      "  train: 100%|██████████| 391/391 [00:19<00:00, 20.34it/s, train_acc=99.5, train_loss=0.0166]\n",
      "   test: 100%|██████████| 79/79 [00:03<00:00, 23.80it/s, test_acc=76.3, test_loss=1.74]\n"
     ]
    },
    {
     "name": "stdout",
     "output_type": "stream",
     "text": [
      "EPOCH 37/100 :\n"
     ]
    },
    {
     "name": "stderr",
     "output_type": "stream",
     "text": [
      "  train: 100%|██████████| 391/391 [00:17<00:00, 22.43it/s, train_acc=99.4, train_loss=0.0171]\n",
      "   test: 100%|██████████| 79/79 [00:04<00:00, 18.22it/s, test_acc=77.1, test_loss=1.81]\n"
     ]
    },
    {
     "name": "stdout",
     "output_type": "stream",
     "text": [
      "EPOCH 38/100 :\n"
     ]
    },
    {
     "name": "stderr",
     "output_type": "stream",
     "text": [
      "  train: 100%|██████████| 391/391 [00:17<00:00, 21.98it/s, train_acc=99.4, train_loss=0.0175]\n",
      "   test: 100%|██████████| 79/79 [00:03<00:00, 24.12it/s, test_acc=75.5, test_loss=1.79]\n"
     ]
    },
    {
     "name": "stdout",
     "output_type": "stream",
     "text": [
      "EPOCH 39/100 :\n"
     ]
    },
    {
     "name": "stderr",
     "output_type": "stream",
     "text": [
      "  train: 100%|██████████| 391/391 [00:19<00:00, 19.58it/s, train_acc=99.5, train_loss=0.0157]\n",
      "   test: 100%|██████████| 79/79 [00:03<00:00, 23.56it/s, test_acc=76.3, test_loss=1.77]\n"
     ]
    },
    {
     "name": "stdout",
     "output_type": "stream",
     "text": [
      "EPOCH 40/100 :\n"
     ]
    },
    {
     "name": "stderr",
     "output_type": "stream",
     "text": [
      "  train: 100%|██████████| 391/391 [00:17<00:00, 21.87it/s, train_acc=99.4, train_loss=0.0185]\n",
      "   test: 100%|██████████| 79/79 [00:04<00:00, 19.39it/s, test_acc=75.1, test_loss=1.89]\n"
     ]
    },
    {
     "name": "stdout",
     "output_type": "stream",
     "text": [
      "EPOCH 41/100 :\n"
     ]
    },
    {
     "name": "stderr",
     "output_type": "stream",
     "text": [
      "  train: 100%|██████████| 391/391 [00:18<00:00, 21.20it/s, train_acc=99.4, train_loss=0.02]\n",
      "   test: 100%|██████████| 79/79 [00:04<00:00, 19.71it/s, test_acc=76.5, test_loss=1.85]\n"
     ]
    },
    {
     "name": "stdout",
     "output_type": "stream",
     "text": [
      "EPOCH 42/100 :\n"
     ]
    },
    {
     "name": "stderr",
     "output_type": "stream",
     "text": [
      "  train: 100%|██████████| 391/391 [00:19<00:00, 20.11it/s, train_acc=99.5, train_loss=0.0149]\n",
      "   test: 100%|██████████| 79/79 [00:03<00:00, 23.33it/s, test_acc=76.3, test_loss=1.86]\n"
     ]
    },
    {
     "name": "stdout",
     "output_type": "stream",
     "text": [
      "EPOCH 43/100 :\n"
     ]
    },
    {
     "name": "stderr",
     "output_type": "stream",
     "text": [
      "  train: 100%|██████████| 391/391 [00:18<00:00, 20.99it/s, train_acc=99.5, train_loss=0.0159]\n",
      "   test: 100%|██████████| 79/79 [00:03<00:00, 20.39it/s, test_acc=76.3, test_loss=1.85]\n"
     ]
    },
    {
     "name": "stdout",
     "output_type": "stream",
     "text": [
      "EPOCH 44/100 :\n"
     ]
    },
    {
     "name": "stderr",
     "output_type": "stream",
     "text": [
      "  train: 100%|██████████| 391/391 [00:17<00:00, 22.44it/s, train_acc=99.5, train_loss=0.0167]\n",
      "   test: 100%|██████████| 79/79 [00:04<00:00, 17.87it/s, test_acc=76.4, test_loss=1.9]\n"
     ]
    },
    {
     "name": "stdout",
     "output_type": "stream",
     "text": [
      "EPOCH 45/100 :\n"
     ]
    },
    {
     "name": "stderr",
     "output_type": "stream",
     "text": [
      "  train: 100%|██████████| 391/391 [00:17<00:00, 22.31it/s, train_acc=99.6, train_loss=0.0137]\n",
      "   test: 100%|██████████| 79/79 [00:03<00:00, 23.39it/s, test_acc=76.1, test_loss=1.97]\n"
     ]
    },
    {
     "name": "stdout",
     "output_type": "stream",
     "text": [
      "EPOCH 46/100 :\n"
     ]
    },
    {
     "name": "stderr",
     "output_type": "stream",
     "text": [
      "  train: 100%|██████████| 391/391 [00:18<00:00, 20.99it/s, train_acc=99.5, train_loss=0.0178]\n",
      "   test: 100%|██████████| 79/79 [00:03<00:00, 24.17it/s, test_acc=75.6, test_loss=2.06]\n"
     ]
    },
    {
     "name": "stdout",
     "output_type": "stream",
     "text": [
      "EPOCH 47/100 :\n"
     ]
    },
    {
     "name": "stderr",
     "output_type": "stream",
     "text": [
      "  train: 100%|██████████| 391/391 [00:17<00:00, 22.91it/s, train_acc=99.3, train_loss=0.0213]\n",
      "   test: 100%|██████████| 79/79 [00:04<00:00, 18.13it/s, test_acc=76, test_loss=1.93]\n"
     ]
    },
    {
     "name": "stdout",
     "output_type": "stream",
     "text": [
      "EPOCH 48/100 :\n"
     ]
    },
    {
     "name": "stderr",
     "output_type": "stream",
     "text": [
      "  train: 100%|██████████| 391/391 [00:17<00:00, 22.53it/s, train_acc=99.4, train_loss=0.0193]\n",
      "   test: 100%|██████████| 79/79 [00:03<00:00, 24.55it/s, test_acc=76.2, test_loss=1.98]\n"
     ]
    },
    {
     "name": "stdout",
     "output_type": "stream",
     "text": [
      "EPOCH 49/100 :\n"
     ]
    },
    {
     "name": "stderr",
     "output_type": "stream",
     "text": [
      "  train: 100%|██████████| 391/391 [00:17<00:00, 21.73it/s, train_acc=99.2, train_loss=0.0253]\n",
      "   test: 100%|██████████| 79/79 [00:03<00:00, 22.31it/s, test_acc=76.1, test_loss=1.92]\n"
     ]
    },
    {
     "name": "stdout",
     "output_type": "stream",
     "text": [
      "EPOCH 50/100 :\n"
     ]
    },
    {
     "name": "stderr",
     "output_type": "stream",
     "text": [
      "  train: 100%|██████████| 391/391 [00:17<00:00, 22.94it/s, train_acc=99.5, train_loss=0.0159]\n",
      "   test: 100%|██████████| 79/79 [00:03<00:00, 24.16it/s, test_acc=76.3, test_loss=1.91]\n"
     ]
    },
    {
     "name": "stdout",
     "output_type": "stream",
     "text": [
      "EPOCH 51/100 :\n"
     ]
    },
    {
     "name": "stderr",
     "output_type": "stream",
     "text": [
      "  train: 100%|██████████| 391/391 [00:18<00:00, 21.17it/s, train_acc=99.4, train_loss=0.0194]\n",
      "   test: 100%|██████████| 79/79 [00:03<00:00, 23.89it/s, test_acc=76.9, test_loss=1.87]\n"
     ]
    },
    {
     "name": "stdout",
     "output_type": "stream",
     "text": [
      "EPOCH 52/100 :\n"
     ]
    },
    {
     "name": "stderr",
     "output_type": "stream",
     "text": [
      "  train: 100%|██████████| 391/391 [00:17<00:00, 22.03it/s, train_acc=99.5, train_loss=0.015]\n",
      "   test: 100%|██████████| 79/79 [00:04<00:00, 19.44it/s, test_acc=75.9, test_loss=1.97]\n"
     ]
    },
    {
     "name": "stdout",
     "output_type": "stream",
     "text": [
      "EPOCH 53/100 :\n"
     ]
    },
    {
     "name": "stderr",
     "output_type": "stream",
     "text": [
      "  train: 100%|██████████| 391/391 [00:17<00:00, 22.80it/s, train_acc=99.6, train_loss=0.0149]\n",
      "   test: 100%|██████████| 79/79 [00:03<00:00, 24.69it/s, test_acc=76.4, test_loss=1.9]\n"
     ]
    },
    {
     "name": "stdout",
     "output_type": "stream",
     "text": [
      "EPOCH 54/100 :\n"
     ]
    },
    {
     "name": "stderr",
     "output_type": "stream",
     "text": [
      "  train: 100%|██████████| 391/391 [00:18<00:00, 21.34it/s, train_acc=99.6, train_loss=0.0134]\n",
      "   test: 100%|██████████| 79/79 [00:03<00:00, 23.39it/s, test_acc=76.5, test_loss=1.96]\n"
     ]
    },
    {
     "name": "stdout",
     "output_type": "stream",
     "text": [
      "EPOCH 55/100 :\n"
     ]
    },
    {
     "name": "stderr",
     "output_type": "stream",
     "text": [
      "  train: 100%|██████████| 391/391 [00:17<00:00, 22.91it/s, train_acc=99.6, train_loss=0.0129]\n",
      "   test: 100%|██████████| 79/79 [00:04<00:00, 18.16it/s, test_acc=76.1, test_loss=1.94]\n"
     ]
    },
    {
     "name": "stdout",
     "output_type": "stream",
     "text": [
      "EPOCH 56/100 :\n"
     ]
    },
    {
     "name": "stderr",
     "output_type": "stream",
     "text": [
      "  train: 100%|██████████| 391/391 [00:17<00:00, 22.85it/s, train_acc=99.7, train_loss=0.00902]\n",
      "   test: 100%|██████████| 79/79 [00:03<00:00, 24.11it/s, test_acc=77, test_loss=1.9]\n"
     ]
    },
    {
     "name": "stdout",
     "output_type": "stream",
     "text": [
      "EPOCH 57/100 :\n"
     ]
    },
    {
     "name": "stderr",
     "output_type": "stream",
     "text": [
      "  train: 100%|██████████| 391/391 [00:18<00:00, 21.52it/s, train_acc=99.8, train_loss=0.00742]\n",
      "   test: 100%|██████████| 79/79 [00:03<00:00, 24.16it/s, test_acc=76.7, test_loss=1.96]\n"
     ]
    },
    {
     "name": "stdout",
     "output_type": "stream",
     "text": [
      "EPOCH 58/100 :\n"
     ]
    },
    {
     "name": "stderr",
     "output_type": "stream",
     "text": [
      "  train: 100%|██████████| 391/391 [00:17<00:00, 22.96it/s, train_acc=99.8, train_loss=0.00713]\n",
      "   test: 100%|██████████| 79/79 [00:03<00:00, 22.97it/s, test_acc=76, test_loss=2.01]\n"
     ]
    },
    {
     "name": "stdout",
     "output_type": "stream",
     "text": [
      "EPOCH 59/100 :\n"
     ]
    },
    {
     "name": "stderr",
     "output_type": "stream",
     "text": [
      "  train: 100%|██████████| 391/391 [00:18<00:00, 21.69it/s, train_acc=99.8, train_loss=0.00662]\n",
      "   test: 100%|██████████| 79/79 [00:03<00:00, 24.18it/s, test_acc=76.8, test_loss=1.93]\n"
     ]
    },
    {
     "name": "stdout",
     "output_type": "stream",
     "text": [
      "EPOCH 60/100 :\n"
     ]
    },
    {
     "name": "stderr",
     "output_type": "stream",
     "text": [
      "  train: 100%|██████████| 391/391 [00:17<00:00, 22.06it/s, train_acc=99.8, train_loss=0.00487]\n",
      "   test: 100%|██████████| 79/79 [00:03<00:00, 20.38it/s, test_acc=77.1, test_loss=1.99]\n"
     ]
    },
    {
     "name": "stdout",
     "output_type": "stream",
     "text": [
      "EPOCH 61/100 :\n"
     ]
    },
    {
     "name": "stderr",
     "output_type": "stream",
     "text": [
      "  train: 100%|██████████| 391/391 [00:16<00:00, 23.09it/s, train_acc=99.9, train_loss=0.00203]\n",
      "   test: 100%|██████████| 79/79 [00:03<00:00, 24.75it/s, test_acc=77.2, test_loss=1.95]\n"
     ]
    },
    {
     "name": "stdout",
     "output_type": "stream",
     "text": [
      "EPOCH 62/100 :\n"
     ]
    },
    {
     "name": "stderr",
     "output_type": "stream",
     "text": [
      "  train: 100%|██████████| 391/391 [00:18<00:00, 21.55it/s, train_acc=100, train_loss=0.00131]\n",
      "   test: 100%|██████████| 79/79 [00:03<00:00, 23.83it/s, test_acc=76.6, test_loss=2.06]\n"
     ]
    },
    {
     "name": "stdout",
     "output_type": "stream",
     "text": [
      "EPOCH 63/100 :\n"
     ]
    },
    {
     "name": "stderr",
     "output_type": "stream",
     "text": [
      "  train: 100%|██████████| 391/391 [00:17<00:00, 22.71it/s, train_acc=100, train_loss=0.00175]\n",
      "   test: 100%|██████████| 79/79 [00:04<00:00, 18.14it/s, test_acc=76.9, test_loss=2.11]\n"
     ]
    },
    {
     "name": "stdout",
     "output_type": "stream",
     "text": [
      "EPOCH 64/100 :\n"
     ]
    },
    {
     "name": "stderr",
     "output_type": "stream",
     "text": [
      "  train: 100%|██████████| 391/391 [00:17<00:00, 22.94it/s, train_acc=100, train_loss=0.00071]\n",
      "   test: 100%|██████████| 79/79 [00:03<00:00, 24.57it/s, test_acc=76.9, test_loss=2.11]\n"
     ]
    },
    {
     "name": "stdout",
     "output_type": "stream",
     "text": [
      "EPOCH 65/100 :\n"
     ]
    },
    {
     "name": "stderr",
     "output_type": "stream",
     "text": [
      "  train: 100%|██████████| 391/391 [00:18<00:00, 21.22it/s, train_acc=100, train_loss=0.000506]\n",
      "   test: 100%|██████████| 79/79 [00:03<00:00, 24.63it/s, test_acc=77.4, test_loss=2.11]\n"
     ]
    },
    {
     "name": "stdout",
     "output_type": "stream",
     "text": [
      "EPOCH 66/100 :\n"
     ]
    },
    {
     "name": "stderr",
     "output_type": "stream",
     "text": [
      "  train: 100%|██████████| 391/391 [00:17<00:00, 22.79it/s, train_acc=100, train_loss=0.00105]\n",
      "   test: 100%|██████████| 79/79 [00:03<00:00, 20.38it/s, test_acc=77.2, test_loss=2.12]\n"
     ]
    },
    {
     "name": "stdout",
     "output_type": "stream",
     "text": [
      "EPOCH 67/100 :\n"
     ]
    },
    {
     "name": "stderr",
     "output_type": "stream",
     "text": [
      "  train: 100%|██████████| 391/391 [00:17<00:00, 22.20it/s, train_acc=100, train_loss=0.000302]\n",
      "   test: 100%|██████████| 79/79 [00:03<00:00, 24.00it/s, test_acc=77.4, test_loss=2.13]\n"
     ]
    },
    {
     "name": "stdout",
     "output_type": "stream",
     "text": [
      "EPOCH 68/100 :\n"
     ]
    },
    {
     "name": "stderr",
     "output_type": "stream",
     "text": [
      "  train: 100%|██████████| 391/391 [00:19<00:00, 19.96it/s, train_acc=100, train_loss=0.000105]\n",
      "   test: 100%|██████████| 79/79 [00:03<00:00, 24.43it/s, test_acc=77.5, test_loss=2.14]\n"
     ]
    },
    {
     "name": "stdout",
     "output_type": "stream",
     "text": [
      "EPOCH 69/100 :\n"
     ]
    },
    {
     "name": "stderr",
     "output_type": "stream",
     "text": [
      "  train: 100%|██████████| 391/391 [00:17<00:00, 22.85it/s, train_acc=100, train_loss=5.51e-5]\n",
      "   test: 100%|██████████| 79/79 [00:03<00:00, 22.22it/s, test_acc=77.6, test_loss=2.13]\n"
     ]
    },
    {
     "name": "stdout",
     "output_type": "stream",
     "text": [
      "EPOCH 70/100 :\n"
     ]
    },
    {
     "name": "stderr",
     "output_type": "stream",
     "text": [
      "  train: 100%|██████████| 391/391 [00:17<00:00, 21.97it/s, train_acc=100, train_loss=3.91e-5]\n",
      "   test: 100%|██████████| 79/79 [00:03<00:00, 23.50it/s, test_acc=77.8, test_loss=2.1]\n"
     ]
    },
    {
     "name": "stdout",
     "output_type": "stream",
     "text": [
      "EPOCH 71/100 :\n"
     ]
    },
    {
     "name": "stderr",
     "output_type": "stream",
     "text": [
      "  train: 100%|██████████| 391/391 [00:17<00:00, 22.14it/s, train_acc=100, train_loss=3.63e-5]\n",
      "   test: 100%|██████████| 79/79 [00:03<00:00, 20.68it/s, test_acc=77.5, test_loss=2.14]\n"
     ]
    },
    {
     "name": "stdout",
     "output_type": "stream",
     "text": [
      "EPOCH 72/100 :\n"
     ]
    },
    {
     "name": "stderr",
     "output_type": "stream",
     "text": [
      "  train: 100%|██████████| 391/391 [00:17<00:00, 22.73it/s, train_acc=100, train_loss=2.97e-5]\n",
      "   test: 100%|██████████| 79/79 [00:03<00:00, 24.54it/s, test_acc=77.3, test_loss=2.12]\n"
     ]
    },
    {
     "name": "stdout",
     "output_type": "stream",
     "text": [
      "EPOCH 73/100 :\n"
     ]
    },
    {
     "name": "stderr",
     "output_type": "stream",
     "text": [
      "  train: 100%|██████████| 391/391 [00:18<00:00, 21.27it/s, train_acc=100, train_loss=2.83e-5]\n",
      "   test: 100%|██████████| 79/79 [00:03<00:00, 23.99it/s, test_acc=77.8, test_loss=2.15]\n"
     ]
    },
    {
     "name": "stdout",
     "output_type": "stream",
     "text": [
      "EPOCH 74/100 :\n"
     ]
    },
    {
     "name": "stderr",
     "output_type": "stream",
     "text": [
      "  train: 100%|██████████| 391/391 [00:17<00:00, 22.19it/s, train_acc=100, train_loss=2.72e-5]\n",
      "   test: 100%|██████████| 79/79 [00:04<00:00, 18.62it/s, test_acc=77.8, test_loss=2.11]\n"
     ]
    },
    {
     "name": "stdout",
     "output_type": "stream",
     "text": [
      "EPOCH 75/100 :\n"
     ]
    },
    {
     "name": "stderr",
     "output_type": "stream",
     "text": [
      "  train: 100%|██████████| 391/391 [00:17<00:00, 22.38it/s, train_acc=100, train_loss=2.4e-5]\n",
      "   test: 100%|██████████| 79/79 [00:03<00:00, 23.76it/s, test_acc=77.3, test_loss=2.12]\n"
     ]
    },
    {
     "name": "stdout",
     "output_type": "stream",
     "text": [
      "EPOCH 76/100 :\n"
     ]
    },
    {
     "name": "stderr",
     "output_type": "stream",
     "text": [
      "  train: 100%|██████████| 391/391 [00:18<00:00, 21.10it/s, train_acc=100, train_loss=2.45e-5]\n",
      "   test: 100%|██████████| 79/79 [00:03<00:00, 23.70it/s, test_acc=78, test_loss=2.13]\n"
     ]
    },
    {
     "name": "stdout",
     "output_type": "stream",
     "text": [
      "EPOCH 77/100 :\n"
     ]
    },
    {
     "name": "stderr",
     "output_type": "stream",
     "text": [
      "  train: 100%|██████████| 391/391 [00:17<00:00, 22.71it/s, train_acc=100, train_loss=2.21e-5]\n",
      "   test: 100%|██████████| 79/79 [00:04<00:00, 18.14it/s, test_acc=77.6, test_loss=2.11]\n"
     ]
    },
    {
     "name": "stdout",
     "output_type": "stream",
     "text": [
      "EPOCH 78/100 :\n"
     ]
    },
    {
     "name": "stderr",
     "output_type": "stream",
     "text": [
      "  train: 100%|██████████| 391/391 [00:17<00:00, 22.36it/s, train_acc=100, train_loss=2.21e-5]\n",
      "   test: 100%|██████████| 79/79 [00:03<00:00, 24.22it/s, test_acc=77.7, test_loss=2.15]\n"
     ]
    },
    {
     "name": "stdout",
     "output_type": "stream",
     "text": [
      "EPOCH 79/100 :\n"
     ]
    },
    {
     "name": "stderr",
     "output_type": "stream",
     "text": [
      "  train: 100%|██████████| 391/391 [00:18<00:00, 21.01it/s, train_acc=100, train_loss=2.16e-5]\n",
      "   test: 100%|██████████| 79/79 [00:03<00:00, 23.96it/s, test_acc=77.6, test_loss=2.14]\n"
     ]
    },
    {
     "name": "stdout",
     "output_type": "stream",
     "text": [
      "EPOCH 80/100 :\n"
     ]
    },
    {
     "name": "stderr",
     "output_type": "stream",
     "text": [
      "  train: 100%|██████████| 391/391 [00:17<00:00, 22.47it/s, train_acc=100, train_loss=2.03e-5]\n",
      "   test: 100%|██████████| 79/79 [00:04<00:00, 17.71it/s, test_acc=77.8, test_loss=2.14]\n"
     ]
    },
    {
     "name": "stdout",
     "output_type": "stream",
     "text": [
      "EPOCH 81/100 :\n"
     ]
    },
    {
     "name": "stderr",
     "output_type": "stream",
     "text": [
      "  train: 100%|██████████| 391/391 [00:17<00:00, 22.68it/s, train_acc=100, train_loss=2e-5]\n",
      "   test: 100%|██████████| 79/79 [00:03<00:00, 24.10it/s, test_acc=77.7, test_loss=2.13]\n"
     ]
    },
    {
     "name": "stdout",
     "output_type": "stream",
     "text": [
      "EPOCH 82/100 :\n"
     ]
    },
    {
     "name": "stderr",
     "output_type": "stream",
     "text": [
      "  train: 100%|██████████| 391/391 [00:18<00:00, 20.92it/s, train_acc=100, train_loss=1.91e-5]\n",
      "   test: 100%|██████████| 79/79 [00:03<00:00, 23.68it/s, test_acc=77.9, test_loss=2.1]\n"
     ]
    },
    {
     "name": "stdout",
     "output_type": "stream",
     "text": [
      "EPOCH 83/100 :\n"
     ]
    },
    {
     "name": "stderr",
     "output_type": "stream",
     "text": [
      "  train: 100%|██████████| 391/391 [00:17<00:00, 22.51it/s, train_acc=100, train_loss=1.88e-5]\n",
      "   test: 100%|██████████| 79/79 [00:04<00:00, 17.93it/s, test_acc=77.7, test_loss=2.14]\n"
     ]
    },
    {
     "name": "stdout",
     "output_type": "stream",
     "text": [
      "EPOCH 84/100 :\n"
     ]
    },
    {
     "name": "stderr",
     "output_type": "stream",
     "text": [
      "  train: 100%|██████████| 391/391 [00:17<00:00, 22.74it/s, train_acc=100, train_loss=1.82e-5]\n",
      "   test: 100%|██████████| 79/79 [00:03<00:00, 23.59it/s, test_acc=77.8, test_loss=2.16]\n"
     ]
    },
    {
     "name": "stdout",
     "output_type": "stream",
     "text": [
      "EPOCH 85/100 :\n"
     ]
    },
    {
     "name": "stderr",
     "output_type": "stream",
     "text": [
      "  train: 100%|██████████| 391/391 [00:18<00:00, 20.94it/s, train_acc=100, train_loss=1.8e-5]\n",
      "   test: 100%|██████████| 79/79 [00:03<00:00, 23.36it/s, test_acc=77.6, test_loss=2.15]\n"
     ]
    },
    {
     "name": "stdout",
     "output_type": "stream",
     "text": [
      "EPOCH 86/100 :\n"
     ]
    },
    {
     "name": "stderr",
     "output_type": "stream",
     "text": [
      "  train: 100%|██████████| 391/391 [00:17<00:00, 22.33it/s, train_acc=100, train_loss=1.78e-5]\n",
      "   test: 100%|██████████| 79/79 [00:04<00:00, 17.71it/s, test_acc=77.7, test_loss=2.11]\n"
     ]
    },
    {
     "name": "stdout",
     "output_type": "stream",
     "text": [
      "EPOCH 87/100 :\n"
     ]
    },
    {
     "name": "stderr",
     "output_type": "stream",
     "text": [
      "  train: 100%|██████████| 391/391 [00:17<00:00, 22.59it/s, train_acc=100, train_loss=1.71e-5]\n",
      "   test: 100%|██████████| 79/79 [00:03<00:00, 23.87it/s, test_acc=78.2, test_loss=2.12]\n"
     ]
    },
    {
     "name": "stdout",
     "output_type": "stream",
     "text": [
      "EPOCH 88/100 :\n"
     ]
    },
    {
     "name": "stderr",
     "output_type": "stream",
     "text": [
      "  train: 100%|██████████| 391/391 [00:18<00:00, 21.15it/s, train_acc=100, train_loss=1.69e-5]\n",
      "   test: 100%|██████████| 79/79 [00:03<00:00, 22.98it/s, test_acc=77.9, test_loss=2.13]\n"
     ]
    },
    {
     "name": "stdout",
     "output_type": "stream",
     "text": [
      "EPOCH 89/100 :\n"
     ]
    },
    {
     "name": "stderr",
     "output_type": "stream",
     "text": [
      "  train: 100%|██████████| 391/391 [00:17<00:00, 22.22it/s, train_acc=100, train_loss=1.63e-5]\n",
      "   test: 100%|██████████| 79/79 [00:03<00:00, 21.43it/s, test_acc=77.9, test_loss=2.08]\n"
     ]
    },
    {
     "name": "stdout",
     "output_type": "stream",
     "text": [
      "EPOCH 90/100 :\n"
     ]
    },
    {
     "name": "stderr",
     "output_type": "stream",
     "text": [
      "  train: 100%|██████████| 391/391 [00:17<00:00, 21.75it/s, train_acc=100, train_loss=1.65e-5]\n",
      "   test: 100%|██████████| 79/79 [00:03<00:00, 22.67it/s, test_acc=78, test_loss=2.1]\n"
     ]
    },
    {
     "name": "stdout",
     "output_type": "stream",
     "text": [
      "EPOCH 91/100 :\n"
     ]
    },
    {
     "name": "stderr",
     "output_type": "stream",
     "text": [
      "  train: 100%|██████████| 391/391 [00:18<00:00, 21.48it/s, train_acc=100, train_loss=1.61e-5]\n",
      "   test: 100%|██████████| 79/79 [00:03<00:00, 21.94it/s, test_acc=77.5, test_loss=2.15]\n"
     ]
    },
    {
     "name": "stdout",
     "output_type": "stream",
     "text": [
      "EPOCH 92/100 :\n"
     ]
    },
    {
     "name": "stderr",
     "output_type": "stream",
     "text": [
      "  train: 100%|██████████| 391/391 [00:17<00:00, 22.46it/s, train_acc=100, train_loss=1.62e-5]\n",
      "   test: 100%|██████████| 79/79 [00:03<00:00, 23.56it/s, test_acc=78.2, test_loss=2.13]\n"
     ]
    },
    {
     "name": "stdout",
     "output_type": "stream",
     "text": [
      "EPOCH 93/100 :\n"
     ]
    },
    {
     "name": "stderr",
     "output_type": "stream",
     "text": [
      "  train: 100%|██████████| 391/391 [00:18<00:00, 21.19it/s, train_acc=100, train_loss=1.66e-5]\n",
      "   test: 100%|██████████| 79/79 [00:03<00:00, 23.69it/s, test_acc=77.8, test_loss=2.14]\n"
     ]
    },
    {
     "name": "stdout",
     "output_type": "stream",
     "text": [
      "EPOCH 94/100 :\n"
     ]
    },
    {
     "name": "stderr",
     "output_type": "stream",
     "text": [
      "  train: 100%|██████████| 391/391 [00:17<00:00, 22.19it/s, train_acc=100, train_loss=1.58e-5]\n",
      "   test: 100%|██████████| 79/79 [00:03<00:00, 20.06it/s, test_acc=77.7, test_loss=2.12]\n"
     ]
    },
    {
     "name": "stdout",
     "output_type": "stream",
     "text": [
      "EPOCH 95/100 :\n"
     ]
    },
    {
     "name": "stderr",
     "output_type": "stream",
     "text": [
      "  train: 100%|██████████| 391/391 [00:17<00:00, 22.44it/s, train_acc=100, train_loss=1.49e-5]\n",
      "   test: 100%|██████████| 79/79 [00:03<00:00, 24.31it/s, test_acc=78, test_loss=2.07]\n"
     ]
    },
    {
     "name": "stdout",
     "output_type": "stream",
     "text": [
      "EPOCH 96/100 :\n"
     ]
    },
    {
     "name": "stderr",
     "output_type": "stream",
     "text": [
      "  train: 100%|██████████| 391/391 [00:18<00:00, 21.14it/s, train_acc=100, train_loss=1.54e-5]\n",
      "   test: 100%|██████████| 79/79 [00:03<00:00, 23.82it/s, test_acc=77.9, test_loss=2.1]\n"
     ]
    },
    {
     "name": "stdout",
     "output_type": "stream",
     "text": [
      "EPOCH 97/100 :\n"
     ]
    },
    {
     "name": "stderr",
     "output_type": "stream",
     "text": [
      "  train: 100%|██████████| 391/391 [00:17<00:00, 22.27it/s, train_acc=100, train_loss=1.52e-5]\n",
      "   test: 100%|██████████| 79/79 [00:04<00:00, 17.58it/s, test_acc=78.2, test_loss=2.1]\n"
     ]
    },
    {
     "name": "stdout",
     "output_type": "stream",
     "text": [
      "EPOCH 98/100 :\n"
     ]
    },
    {
     "name": "stderr",
     "output_type": "stream",
     "text": [
      "  train: 100%|██████████| 391/391 [00:17<00:00, 22.46it/s, train_acc=100, train_loss=1.48e-5]\n",
      "   test: 100%|██████████| 79/79 [00:03<00:00, 23.95it/s, test_acc=78, test_loss=2.11]\n"
     ]
    },
    {
     "name": "stdout",
     "output_type": "stream",
     "text": [
      "EPOCH 99/100 :\n"
     ]
    },
    {
     "name": "stderr",
     "output_type": "stream",
     "text": [
      "  train: 100%|██████████| 391/391 [00:18<00:00, 20.94it/s, train_acc=100, train_loss=1.48e-5]\n",
      "   test: 100%|██████████| 79/79 [00:03<00:00, 24.17it/s, test_acc=78.2, test_loss=2.12]\n"
     ]
    },
    {
     "name": "stdout",
     "output_type": "stream",
     "text": [
      "EPOCH 100/100 :\n"
     ]
    },
    {
     "name": "stderr",
     "output_type": "stream",
     "text": [
      "  train: 100%|██████████| 391/391 [00:17<00:00, 22.39it/s, train_acc=100, train_loss=1.49e-5]\n",
      "   test: 100%|██████████| 79/79 [00:04<00:00, 17.30it/s, test_acc=77.8, test_loss=2.11]"
     ]
    },
    {
     "name": "stdout",
     "output_type": "stream",
     "text": [
      "\n",
      "\n",
      "Train time: 2145.54662 seconds\n"
     ]
    },
    {
     "name": "stderr",
     "output_type": "stream",
     "text": [
      "\n"
     ]
    }
   ],
   "source": [
    "train_loss3, test_loss3, train_acc3, test_acc3 = fit(\n",
    "    model3, train_dataloader_CIFAR10, test_dataloader_CIFAR10, optimizer3, 100)"
   ]
  },
  {
   "cell_type": "code",
   "execution_count": null,
   "metadata": {
    "id": "rDcsXJFh1lPU"
   },
   "outputs": [],
   "source": [
    "train_loss6, test_loss6, train_acc6, test_acc6 = fit(\n",
    "    model6, train_dataloader_CIFAR10, test_dataloader_CIFAR10, optimizer6, 100)"
   ]
  },
  {
   "cell_type": "code",
   "execution_count": null,
   "metadata": {
    "id": "epiiTPyZelCj"
   },
   "outputs": [],
   "source": [
    "train_loss9, test_loss9, train_acc9, test_acc9 = fit(\n",
    "    model9, train_dataloader_CIFAR10, test_dataloader_CIFAR10, optimizer9, 100)"
   ]
  },
  {
   "cell_type": "markdown",
   "metadata": {
    "id": "SRGc4wPjAd1o"
   },
   "source": [
    "### Results for CIFAR10 dataset"
   ]
  },
  {
   "cell_type": "code",
   "execution_count": 59,
   "metadata": {
    "colab": {
     "base_uri": "https://localhost:8080/",
     "height": 953
    },
    "id": "FCuDbPWznpS-",
    "outputId": "63334f45-211d-480f-ec39-79dc31621a2d"
   },
   "outputs": [
    {
     "data": {
      "image/png": "[encoded data removed]",
      "text/plain": [
       "<Figure size 1300x1000 with 4 Axes>"
      ]
     },
     "metadata": {},
     "output_type": "display_data"
    }
   ],
   "source": [
    "accloss_plots(train_loss3, test_loss3, train_acc3, test_acc3,\n",
    "                  train_loss6, test_loss6, train_acc6, test_acc6,\n",
    "                  train_loss9, test_loss9, train_acc9, test_acc9)"
   ]
  }
 ],
 "metadata": {
  "accelerator": "GPU",
  "colab": {
   "provenance": []
  },
  "gpuClass": "standard",
  "kernelspec": {
   "display_name": "Python 3 (ipykernel)",
   "language": "python",
   "name": "python3"
  },
  "language_info": {
   "codemirror_mode": {
    "name": "ipython",
    "version": 3
   },
   "file_extension": ".py",
   "mimetype": "text/x-python",
   "name": "python",
   "nbconvert_exporter": "python",
   "pygments_lexer": "ipython3",
   "version": "3.10.2"
  }
 },
 "nbformat": 4,
 "nbformat_minor": 1
}
